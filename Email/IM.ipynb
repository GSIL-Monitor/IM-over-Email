{
 "cells": [
  {
   "cell_type": "code",
   "execution_count": 1,
   "metadata": {
    "ExecuteTime": {
     "end_time": "2017-12-12T02:36:44.292238Z",
     "start_time": "2017-12-12T02:36:44.289164Z"
    }
   },
   "outputs": [],
   "source": [
    "import getpass\n",
    "import email"
   ]
  },
  {
   "cell_type": "code",
   "execution_count": 2,
   "metadata": {
    "ExecuteTime": {
     "end_time": "2017-12-12T02:36:45.228937Z",
     "start_time": "2017-12-12T02:36:45.096045Z"
    }
   },
   "outputs": [],
   "source": [
    "import ssl\n",
    "\n",
    "from socks import create_connection\n",
    "from socks import PROXY_TYPE_SOCKS4\n",
    "from socks import PROXY_TYPE_SOCKS5\n",
    "from socks import PROXY_TYPE_HTTP\n",
    "\n",
    "from imaplib import IMAP4\n",
    "from imaplib import IMAP4_PORT\n",
    "from imaplib import IMAP4_SSL_PORT\n",
    "\n",
    "class SocksIMAP4SSL(SocksIMAP4):\n",
    "\n",
    "    def __init__(self, host='', port=IMAP4_SSL_PORT, keyfile=None, certfile=None, ssl_context=None, proxy_addr=None,\n",
    "                 proxy_port=None, rdns=True, username=None, password=None, proxy_type=\"socks5\"):\n",
    "\n",
    "        if ssl_context is not None and keyfile is not None:\n",
    "                raise ValueError(\"ssl_context and keyfile arguments are mutually \"\n",
    "                                 \"exclusive\")\n",
    "        if ssl_context is not None and certfile is not None:\n",
    "            raise ValueError(\"ssl_context and certfile arguments are mutually \"\n",
    "                             \"exclusive\")\n",
    "\n",
    "        self.keyfile = keyfile\n",
    "        self.certfile = certfile\n",
    "        if ssl_context is None:\n",
    "            ssl_context = ssl._create_stdlib_context(certfile=certfile,\n",
    "                                                     keyfile=keyfile)\n",
    "        self.ssl_context = ssl_context\n",
    "\n",
    "        SocksIMAP4.__init__(self, host, port, proxy_addr=proxy_addr, proxy_port=proxy_port,\n",
    "                            rdns=rdns, username=username, password=password, proxy_type=proxy_type)\n",
    "\n",
    "    def _create_socket(self):\n",
    "        sock = SocksIMAP4._create_socket(self)\n",
    "        server_hostname = self.host if ssl.HAS_SNI else None\n",
    "        return self.ssl_context.wrap_socket(sock, server_hostname=server_hostname)\n",
    "\n",
    "    def open(self, host='', port=IMAP4_PORT):\n",
    "        SocksIMAP4.open(self, host, port)"
   ]
  },
  {
   "cell_type": "code",
   "execution_count": 9,
   "metadata": {
    "ExecuteTime": {
     "end_time": "2017-12-12T02:43:06.678854Z",
     "start_time": "2017-12-12T02:43:06.666289Z"
    }
   },
   "outputs": [],
   "source": [
    "import configparser"
   ]
  },
  {
   "cell_type": "code",
   "execution_count": 133,
   "metadata": {
    "ExecuteTime": {
     "end_time": "2017-12-12T04:24:00.548122Z",
     "start_time": "2017-12-12T04:23:58.093913Z"
    }
   },
   "outputs": [
    {
     "data": {
      "text/plain": [
       "('OK', [b'LOGIN completed'])"
      ]
     },
     "execution_count": 133,
     "metadata": {},
     "output_type": "execute_result"
    }
   ],
   "source": [
    "conf = configparser.ConfigParser()\n",
    "conf.read('im.conf')\n",
    "\n",
    "account = conf.get('email', 'account')\n",
    "password = conf.get('email', 'password')\n",
    "imap_server = conf.get('email', 'server')\n",
    "imap_port = conf.getint('email', 'port')\n",
    "\n",
    "# setup proxy in case of some email servers cannot be accessed.\n",
    "proxy_addr = conf.get('proxy', 'host')\n",
    "proxy_port = conf.getint('proxy', 'port')\n",
    "proxy_type = conf.get('proxy', 'type')\n",
    "\n",
    "mailbox = SocksIMAP4SSL(host=imap_server, port=imap_port,\n",
    "                        proxy_addr=proxy_addr, proxy_port=proxy_port, proxy_type=proxy_type)\n",
    "mailbox.login(account, password)"
   ]
  },
  {
   "cell_type": "code",
   "execution_count": 134,
   "metadata": {
    "ExecuteTime": {
     "end_time": "2017-12-12T04:24:01.161418Z",
     "start_time": "2017-12-12T04:24:00.557836Z"
    }
   },
   "outputs": [
    {
     "data": {
      "text/plain": [
       "('OK', [b'2'])"
      ]
     },
     "execution_count": 134,
     "metadata": {},
     "output_type": "execute_result"
    }
   ],
   "source": [
    "mailbox.select(\"INBOX\")"
   ]
  },
  {
   "cell_type": "code",
   "execution_count": 135,
   "metadata": {
    "ExecuteTime": {
     "end_time": "2017-12-12T04:24:01.177700Z",
     "start_time": "2017-12-12T04:24:01.170973Z"
    }
   },
   "outputs": [],
   "source": [
    "def decoder(msg):\n",
    "    '''\n",
    "    Decode msg like this format:\n",
    "    (b'\\xbf\\xa1\\xe8\\xa1\\x8c\\xe4\\xb8\\xba', 'utf-8')\n",
    "    '''\n",
    "    payload = msg[0]\n",
    "    charset = msg[1]\n",
    "    \n",
    "    if charset is None:\n",
    "        # no need to decode:\n",
    "        return payload\n",
    "    else:\n",
    "        return payload.decode(charset)"
   ]
  },
  {
   "cell_type": "code",
   "execution_count": 136,
   "metadata": {
    "ExecuteTime": {
     "end_time": "2017-12-12T04:24:01.332948Z",
     "start_time": "2017-12-12T04:24:01.321202Z"
    }
   },
   "outputs": [],
   "source": [
    "def parse_email(msg):\n",
    "    mail_content = None\n",
    "    content_type = None\n",
    "    \n",
    "    for part in msg.walk():  # walk(): used to dfs iterate the message tree object\n",
    "        if not part.is_multipart(): \n",
    "            # .is_multipart()\n",
    "            # Return True if the message’s payload is a list of sub-Message objects,  \n",
    "            # otherwise return False. When is_multipart() returns False, \n",
    "            # the payload should be a string object.  \n",
    "            content_type = part.get_content_type()  \n",
    "            charset = part.get_content_charset()  \n",
    "            if charset == None or charset == 'utf-8':  \n",
    "                return part.get_payload()\n",
    "            else:  \n",
    "                return unicode(part.get_payload(decode=True),charset).encode('utf-8')   "
   ]
  },
  {
   "cell_type": "code",
   "execution_count": 137,
   "metadata": {
    "ExecuteTime": {
     "end_time": "2017-12-12T04:24:04.233916Z",
     "start_time": "2017-12-12T04:24:02.337082Z"
    }
   },
   "outputs": [
    {
     "name": "stdout",
     "output_type": "stream",
     "text": [
      "Subject:  网易邮箱提醒：一次被阻止的收信行为\n",
      "From:  mail@service.netease.com\n",
      "To:  pengym_111@163.com\n",
      "Date:  Mon, 11 Dec 2017 23:38:59 +0800 (CST)\n",
      "****************************************************************************************************\n",
      "<meta charset=3D\"UTF-8\" />\n",
      "<table align=3D\"center\" style=3D\"font-family:Microsoft YaHei,Simsun;width:5=\n",
      "40px;table-layout:fixed;\" bgcolor=3D\"#ffffff\" cellpadding=3D\"0\" cellspacing=\n",
      "=3D\"0\">\n",
      "<tbody>\n",
      "    <tr>\n",
      "        <td style=3D\"display:none;\"></td>\n",
      "</tr>\n",
      "<tr>\n",
      "    <td>\n",
      "        <table style=3D\"width:540px;\" border=3D\"0\" cellpadding=3D\"0\" cellsp=\n",
      "acing=3D\"0\">\n",
      "<tr>\n",
      "    <td style=3D\"width:540px;height:100px;font-family:Microsoft YaHei,Simsu=\n",
      "n;background:#ffffff;\"><img src=3D\"http://mimg.127.net/hxm/dashi/external/n=\n",
      "otify/14851528754240068.png\" style=3D\"display:block;border:0;width: 540px;h=\n",
      "eight: 100px;\"/></td>\n",
      "</tr>\n",
      "</table>\n",
      "</td>\n",
      "</tr>\n",
      "<tr>\n",
      "    <td>\n",
      "        <table style=3D\"width:540px;\" border=3D\"0\" cellpadding=3D\"0\" cellsp=\n",
      "acing=3D\"0\">\n",
      "<tr>\n",
      "    <td style=3D\"width:540px;height:100px;font-family:Microsoft YaHei,Simsu=\n",
      "n;\"><img src=3D\"http://mimg.127.net/hxm/dashi/external/notify/1485152875431=\n",
      "0069.png\" style=3D\"display:block;border:0;width: 540px;\"/></td>\n",
      "</tr>\n",
      "</table>\n",
      "</td>\n",
      "</tr>\n",
      "<tr>\n",
      "    <td>\n",
      "        <table style=3D\"width:540px;\" border=3D\"0\" cellpadding=3D\"0\" cellsp=\n",
      "acing=3D\"0\">\n",
      "<tr>\n",
      "    <td style=3D\"width:540px;height:189px;font-family:Microsoft YaHei,Simsu=\n",
      "n;background:#ececec;\"><img src=3D\"http://mimg.127.net/hxm/dashi/external/n=\n",
      "otify/14851528754410070.png\" style=3D\"display:block;border:0;width: 540px;\"=\n",
      "/></td>\n",
      "</tr>\n",
      "</table>\n",
      "</td>\n",
      "</tr>\n",
      "<tr>\n",
      "    <td>\n",
      "        <table style=3D\"width:540px;\" border=3D\"0\" cellpadding=3D\"0\" cellsp=\n",
      "acing=3D\"0\">\n",
      "<tr>\n",
      "    <td style=3D\"width:42px;height:19px;font-family:Microsoft YaHei,Simsun;=\n",
      "background:#ececec;\"><img src=3D\"http://mimg.127.net/hxm/dashi/external/not=\n",
      "ify/14851528754490071.png\" style=3D\"display:block;border:0;height: 19px;\"/>=\n",
      "</td>\n",
      "<td style=3D\"width:79px;height:19px;font-family:Microsoft YaHei,Simsun;back=\n",
      "ground:#fafafa;\"><a style=3D\"display: block;\" href=3D\"https://mail.163.com/=\n",
      "dashi\" target=3D\"_blank\"><img src=3D\"http://mimg.127.net/hxm/dashi/external=\n",
      "/notify/14851528754550072.png\"\n",
      "    style=3D\"display:block;border:0;height: 19px;\"/></a>\n",
      "</td>\n",
      "<td style=3D\"width:419px;height:19px;font-family:Microsoft YaHei,Simsun;bac=\n",
      "kground:#fafafa;\"><img src=3D\"http://mimg.127.net/hxm/dashi/external/notify=\n",
      "/14851528754620073.png\" style=3D\"display:block;border:0;height: 19px;\"/></t=\n",
      "d>\n",
      "</tr>\n",
      "</table>\n",
      "</td>\n",
      "</tr>\n",
      "<tr>\n",
      "    <td>\n",
      "        <table style=3D\"width:540px;\" border=3D\"0\" cellpadding=3D\"0\" cellsp=\n",
      "acing=3D\"0\">\n",
      "<tr>\n",
      "    <td style=3D\"width:540px;height:45px;font-family:Microsoft YaHei,Simsun=\n",
      ";background:#ececec;\"><img src=3D\"http://mimg.127.net/hxm/dashi/external/no=\n",
      "tify/14851528754690074.png\" style=3D\"display:block;border:0;width: 540px;\"/=\n",
      "></td>\n",
      "</tr>\n",
      "</table>\n",
      "</td>\n",
      "</tr>\n",
      "<tr>\n",
      "    <td>\n",
      "        <table style=3D\"width:540px;\" border=3D\"0\" cellpadding=3D\"0\" cellsp=\n",
      "acing=3D\"0\">\n",
      "<tr>\n",
      "    <td style=3D\"width:42px;height:18px;font-family:Microsoft YaHei,Simsun;=\n",
      "background:#ececec;\"><img src=3D\"http://mimg.127.net/hxm/dashi/external/not=\n",
      "ify/14851528754760075.png\" style=3D\"display:block;border:0;height: 18px;\"/>=\n",
      "</td>\n",
      "<td style=3D\"width:53px;height:18px;font-family:Microsoft YaHei,Simsun;back=\n",
      "ground:#fafafa;\"><a style=3D\"display: block;\" href=3D\"http://reg.163.com/us=\n",
      "erLoginInfo.jsp?username\" target=3D\"_blank\"><img src=3D\"http://mimg.127.net=\n",
      "/hxm/dashi/external/notify/14851528754820076.png\"\n",
      "    style=3D\"display:block;border:0;height: 18px;\"/></a>\n",
      "</td>\n",
      "<td style=3D\"width:445px;height:18px;font-family:Microsoft YaHei,Simsun;bac=\n",
      "kground:#fafafa;\"><img src=3D\"http://mimg.127.net/hxm/dashi/external/notify=\n",
      "/14851528754900077.png\" style=3D\"display:block;border:0;height: 18px;\"/></t=\n",
      "d>\n",
      "</tr>\n",
      "</table>\n",
      "</td>\n",
      "</tr>\n",
      "<tr>\n",
      "    <td>\n",
      "        <table style=3D\"width:540px;\" border=3D\"0\" cellpadding=3D\"0\" cellsp=\n",
      "acing=3D\"0\">\n",
      "<tr>\n",
      "    <td style=3D\"width:540px;height:123px;font-family:Microsoft YaHei,Simsu=\n",
      "n;background:#ececec;position: relative;\"><p style=3D\"position: absolute;co=\n",
      "lor: #919499;font-size: 12px;left: 31px;top:40px;padding: 0;margin: 0;line-=\n",
      "height: 14px;\">=E7=BD=91=E6=98=93=E9=82=AE=E4=BB=B6=E4=B8=AD=E5=BF=83&nbsp;=\n",
      "&nbsp;&nbsp;2017=E5=B9=B412=E6=9C=8811=E6=97=A5</p>\n",
      "<img src=3D\"http://mimg.127.net/hxm/dashi/external/notify/14851528754970078=\n",
      ".png\" style=3D\"display:block;border:0;width: 540px;\"/></td>\n",
      "</tr>\n",
      "</table>\n",
      "</td>\n",
      "</tr>\n",
      "</tbody>\n",
      "</table>\n",
      "\n",
      "****************************************************************************************************\n",
      "----------------------------------------------------------------------------------------------------\n",
      "Subject:  Test\n",
      "From:  11510035@mail.sustc.edu.cn\n",
      "To:  pengym_111@163.com\n",
      "Date:  Tue, 12 Dec 2017 11:09:30 +0800\n",
      "****************************************************************************************************\n",
      "Hello world\n",
      "\n",
      "=E6=A0=91=E7=A4=BC=E4=B9=A6=E9=99=A2\n",
      "=E5=BD=AD=E4=B8=80=E6=98=8E\n",
      "\n",
      "****************************************************************************************************\n",
      "----------------------------------------------------------------------------------------------------\n"
     ]
    }
   ],
   "source": [
    "# fetch all mails in the inbox\n",
    "typ, data = mailbox.search(None, 'ALL')\n",
    "for num in data[0].split():\n",
    "    typ, data = mailbox.fetch(num, '(RFC822)')\n",
    "    msg = email.message_from_string(data[0][1].decode('utf-8'))\n",
    "    subject = decoder(email.header.decode_header(msg['Subject'])[0])\n",
    "    from_sender = msg['From'].split()[-1].replace('<', '').replace('>', '')\n",
    "    to_sender = msg['To'].split()[-1].replace('<', '').replace('>', '')\n",
    "    date = msg['Date']\n",
    "    content = parse_email(msg)\n",
    "    print(\"Subject: \", subject)\n",
    "    print(\"From: \", from_sender)\n",
    "    print(\"To: \", to_sender)\n",
    "    print(\"Date: \", date)\n",
    "    print('*'*100)\n",
    "    print(content)\n",
    "    print('*'*100)\n",
    "    print('-'*100)"
   ]
  },
  {
   "cell_type": "code",
   "execution_count": null,
   "metadata": {
    "ExecuteTime": {
     "end_time": "2017-12-12T03:16:29.869284Z",
     "start_time": "2017-12-12T03:16:29.471Z"
    }
   },
   "outputs": [],
   "source": [
    "mailbox.close()\n",
    "mailbox.logout()"
   ]
  },
  {
   "cell_type": "code",
   "execution_count": null,
   "metadata": {},
   "outputs": [],
   "source": []
  }
 ],
 "metadata": {
  "kernelspec": {
   "display_name": "Python 3",
   "language": "python",
   "name": "python3"
  },
  "language_info": {
   "codemirror_mode": {
    "name": "ipython",
    "version": 3
   },
   "file_extension": ".py",
   "mimetype": "text/x-python",
   "name": "python",
   "nbconvert_exporter": "python",
   "pygments_lexer": "ipython3",
   "version": "3.6.3"
  },
  "toc": {
   "nav_menu": {},
   "number_sections": true,
   "sideBar": true,
   "skip_h1_title": false,
   "toc_cell": false,
   "toc_position": {},
   "toc_section_display": "block",
   "toc_window_display": false
  },
  "varInspector": {
   "cols": {
    "lenName": 16.0,
    "lenType": 16.0,
    "lenVar": 40.0
   },
   "kernels_config": {
    "python": {
     "delete_cmd_postfix": "",
     "delete_cmd_prefix": "del ",
     "library": "var_list.py",
     "varRefreshCmd": "print(var_dic_list())"
    },
    "r": {
     "delete_cmd_postfix": ") ",
     "delete_cmd_prefix": "rm(",
     "library": "var_list.r",
     "varRefreshCmd": "cat(var_dic_list()) "
    }
   },
   "oldHeight": 681.181818,
   "position": {
    "height": "40px",
    "left": "412.889px",
    "right": "20px",
    "top": "156.972px",
    "width": "369px"
   },
   "types_to_exclude": [
    "module",
    "function",
    "builtin_function_or_method",
    "instance",
    "_Feature"
   ],
   "varInspector_section_display": "none",
   "window_display": false
  }
 },
 "nbformat": 4,
 "nbformat_minor": 2
}
