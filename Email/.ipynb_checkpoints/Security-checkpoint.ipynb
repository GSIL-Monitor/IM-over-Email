{
 "cells": [
  {
   "cell_type": "code",
   "execution_count": 7,
   "metadata": {},
   "outputs": [],
   "source": [
    "import rsa\n",
    "import multiprocessing"
   ]
  },
  {
   "cell_type": "markdown",
   "metadata": {},
   "source": [
    "https://stuvel.eu/python-rsa-doc/usage.html#signing-and-verification"
   ]
  },
  {
   "cell_type": "markdown",
   "metadata": {},
   "source": [
    "# Generating keys"
   ]
  },
  {
   "cell_type": "code",
   "execution_count": 12,
   "metadata": {},
   "outputs": [
    {
     "name": "stdout",
     "output_type": "stream",
     "text": [
      "PublicKey(9226091931019375146490932416037097680857923127843719281386695384533010863251728919722824438556845421286856674975695072721952814101266029368321771312914011, 65537)\n",
      "PrivateKey(9226091931019375146490932416037097680857923127843719281386695384533010863251728919722824438556845421286856674975695072721952814101266029368321771312914011, 65537, 551422892317361070064314544053241857514388588000119755637146738807327212455696680172221369892660138699890441989788083179909730415324014680642746358542545, 7313767895115204771205007264330441603118532465374196400180626492245936768294175043, 1261469062640255948640173076277703427526019369695699544749323050478579977)\n"
     ]
    }
   ],
   "source": [
    "(pubkey, privkey) = rsa.newkeys(512)\n",
    "print (pubkey)\n",
    "print (privkey)"
   ]
  },
  {
   "cell_type": "markdown",
   "metadata": {},
   "source": [
    "Another way to speed up the key generation process is to use multiple processes in parallel to speed up the key generation. Use no more than the number of processes that your machine can run in parallel; a dual-core machine should use poolsize=2; a quad-core hyperthreading machine can run two threads on each core, and thus can use poolsize=8."
   ]
  },
  {
   "cell_type": "code",
   "execution_count": 11,
   "metadata": {},
   "outputs": [
    {
     "name": "stdout",
     "output_type": "stream",
     "text": [
      "PublicKey(7969323116056562323983465180657558189028189947570017844899297863218326554901758880913908094488162054976425913577151272531274818992097480060206125419698889, 65537)\n",
      "PrivateKey(7969323116056562323983465180657558189028189947570017844899297863218326554901758880913908094488162054976425913577151272531274818992097480060206125419698889, 65537, 1394999386413795001003071738903268497864281170613901227042506448065072282486592788553856744446197385296893676053320811147447593258531148580182439624548353, 5274507172337608669022087994588214192969283542282843940969387783474290162730330761, 1510913314868929879756890168349631502897465665384603360768323864914435649)\n"
     ]
    }
   ],
   "source": [
    "(pubkey, privkey) = rsa.newkeys(512, poolsize=multiprocessing.cpu_count())\n",
    "print (pubkey)\n",
    "print (privkey)"
   ]
  },
  {
   "cell_type": "markdown",
   "metadata": {},
   "source": [
    "# Encryption and decryption"
   ]
  },
  {
   "cell_type": "markdown",
   "metadata": {},
   "source": [
    "To encrypt or decrypt a message, use rsa.encrypt() resp. rsa.decrypt().\n",
    "Let’s say that Alice wants to send a message that only Bob can read."
   ]
  },
  {
   "cell_type": "markdown",
   "metadata": {},
   "source": [
    "1.Bob generates a keypair, and gives the public key to Alice. This is done such that Alice knows for sure that the key is really Bob’s (for example by handing over a USB stick that contains the key)."
   ]
  },
  {
   "cell_type": "code",
   "execution_count": 21,
   "metadata": {},
   "outputs": [],
   "source": [
    "(bob_pub, bob_priv) = rsa.newkeys(512)"
   ]
  },
  {
   "cell_type": "markdown",
   "metadata": {},
   "source": [
    "2.Alice writes a message, and encodes it in UTF-8. The RSA module only operates on bytes, and not on strings, so this step is necessary."
   ]
  },
  {
   "cell_type": "code",
   "execution_count": 22,
   "metadata": {},
   "outputs": [],
   "source": [
    "message = 'hello Bob!'.encode('utf8')"
   ]
  },
  {
   "cell_type": "markdown",
   "metadata": {},
   "source": [
    "3.Alice encrypts the message using Bob’s public key, and sends the encrypted message."
   ]
  },
  {
   "cell_type": "code",
   "execution_count": 23,
   "metadata": {},
   "outputs": [],
   "source": [
    "crypto = rsa.encrypt(message, bob_pub)"
   ]
  },
  {
   "cell_type": "markdown",
   "metadata": {},
   "source": [
    "4.Bob receives the message, and decrypts it with his private key."
   ]
  },
  {
   "cell_type": "code",
   "execution_count": 24,
   "metadata": {},
   "outputs": [
    {
     "name": "stdout",
     "output_type": "stream",
     "text": [
      "hello Bob!\n"
     ]
    }
   ],
   "source": [
    "message = rsa.decrypt(crypto, bob_priv)\n",
    "print(message.decode('utf8'))"
   ]
  },
  {
   "cell_type": "markdown",
   "metadata": {},
   "source": [
    "*RSA can only encrypt messages that are smaller than the key. A couple of bytes are lost on random padding, and the rest is available for the message itself. *For example, a 512-bit key can encode a 53-byte message (512 bit = 64 bytes, 11 bytes are used for random padding and other stuff). See Working with big files for information on how to work with larger files."
   ]
  },
  {
   "cell_type": "markdown",
   "metadata": {},
   "source": [
    "# Signing and verification"
   ]
  },
  {
   "cell_type": "markdown",
   "metadata": {},
   "source": [
    "create a detached signature\n",
    "This hashes the message using SHA-1. Other hash methods are also possible\n",
    "The RSA module only operates on bytes, and not on strings, so this step is necessary."
   ]
  },
  {
   "cell_type": "code",
   "execution_count": 29,
   "metadata": {},
   "outputs": [
    {
     "name": "stdout",
     "output_type": "stream",
     "text": [
      "b'\\xa44+6\\x04\\xde\\x02\\xd7\\xae\\x80aL\\xac\\xc7\\x07V\\x94\\x8f\\xc7\\xe47$\\xee\\xda\\xcb\\xee\\xcd\\xf0\\x95|@\\xb0\\xe0@\\x04\\x8f\\xe7\\xae\\xf0\\xaeo\\t\\xbd\\x9a\\x87\\x06I\\x82/\\x12,8\\xec v?\\x80\\xa3\\xaf\\xc3\\x98\\x9d\\x96W'\n"
     ]
    }
   ],
   "source": [
    "(pubkey, privkey) = rsa.newkeys(512)\n",
    "message = 'Go left at the blue tree'\n",
    "signature = rsa.sign(message.encode('utf8'), privkey, 'SHA-1')\n",
    "print (signature)"
   ]
  },
  {
   "cell_type": "markdown",
   "metadata": {},
   "source": [
    "verify the signature"
   ]
  },
  {
   "cell_type": "code",
   "execution_count": 31,
   "metadata": {},
   "outputs": [
    {
     "data": {
      "text/plain": [
       "True"
      ]
     },
     "execution_count": 31,
     "metadata": {},
     "output_type": "execute_result"
    }
   ],
   "source": [
    "message = 'Go left at the blue tree'\n",
    "rsa.verify(message.encode('utf8'), signature, pubkey)"
   ]
  },
  {
   "cell_type": "markdown",
   "metadata": {},
   "source": [
    "*Never display the stack trace of a rsa.pkcs1.VerificationError exception. It shows where in the code the exception occurred, and thus leaks information about the key. It’s only a tiny bit of information, but every bit makes cracking the keys easier.*"
   ]
  },
  {
   "cell_type": "markdown",
   "metadata": {},
   "source": [
    "# Working with big files"
   ]
  },
  {
   "cell_type": "markdown",
   "metadata": {},
   "source": [
    "RSA can only encrypt messages that are smaller than the key.The most common way to use RSA with larger files uses a block cypher like AES or DES3 to encrypt the file with a random key, then encrypt the random key with RSA. You would send the encrypted file along with the encrypted key to the recipient. The complete flow is:"
   ]
  },
  {
   "cell_type": "markdown",
   "metadata": {},
   "source": [
    "1.Generate a random key"
   ]
  },
  {
   "cell_type": "code",
   "execution_count": 33,
   "metadata": {},
   "outputs": [],
   "source": [
    "import rsa.randnum\n",
    "aes_key = rsa.randnum.read_random_bits(128)"
   ]
  },
  {
   "cell_type": "markdown",
   "metadata": {},
   "source": [
    "2.Use that key to encrypt the file with AES."
   ]
  },
  {
   "cell_type": "markdown",
   "metadata": {},
   "source": [
    "3.Encrypt the AES key with RSA"
   ]
  },
  {
   "cell_type": "code",
   "execution_count": 35,
   "metadata": {},
   "outputs": [
    {
     "ename": "NameError",
     "evalue": "name 'public_rsa_key' is not defined",
     "output_type": "error",
     "traceback": [
      "\u001b[1;31m---------------------------------------------------------------------------\u001b[0m",
      "\u001b[1;31mNameError\u001b[0m                                 Traceback (most recent call last)",
      "\u001b[1;32m<ipython-input-35-198e92e08d4a>\u001b[0m in \u001b[0;36m<module>\u001b[1;34m()\u001b[0m\n\u001b[1;32m----> 1\u001b[1;33m \u001b[0mencrypted_aes_key\u001b[0m \u001b[1;33m=\u001b[0m \u001b[0mrsa\u001b[0m\u001b[1;33m.\u001b[0m\u001b[0mencrypt\u001b[0m\u001b[1;33m(\u001b[0m\u001b[0maes_key\u001b[0m\u001b[1;33m,\u001b[0m \u001b[0mpublic_rsa_key\u001b[0m\u001b[1;33m)\u001b[0m\u001b[1;33m\u001b[0m\u001b[0m\n\u001b[0m",
      "\u001b[1;31mNameError\u001b[0m: name 'public_rsa_key' is not defined"
     ]
    }
   ],
   "source": [
    "encrypted_aes_key = rsa.encrypt(aes_key, public_rsa_key)"
   ]
  },
  {
   "cell_type": "markdown",
   "metadata": {},
   "source": [
    "4.Send the encrypted file together with encrypted_aes_key"
   ]
  },
  {
   "cell_type": "markdown",
   "metadata": {},
   "source": [
    "5.The recipient now reverses this process to obtain the encrypted file."
   ]
  },
  {
   "cell_type": "code",
   "execution_count": null,
   "metadata": {},
   "outputs": [],
   "source": []
  }
 ],
 "metadata": {
  "kernelspec": {
   "display_name": "Python 3",
   "language": "python",
   "name": "python3"
  },
  "language_info": {
   "codemirror_mode": {
    "name": "ipython",
    "version": 3
   },
   "file_extension": ".py",
   "mimetype": "text/x-python",
   "name": "python",
   "nbconvert_exporter": "python",
   "pygments_lexer": "ipython3",
   "version": "3.6.2"
  },
  "toc": {
   "nav_menu": {},
   "number_sections": true,
   "sideBar": true,
   "skip_h1_title": false,
   "toc_cell": false,
   "toc_position": {},
   "toc_section_display": "block",
   "toc_window_display": false
  },
  "varInspector": {
   "cols": {
    "lenName": 16,
    "lenType": 16,
    "lenVar": 40
   },
   "kernels_config": {
    "python": {
     "delete_cmd_postfix": "",
     "delete_cmd_prefix": "del ",
     "library": "var_list.py",
     "varRefreshCmd": "print(var_dic_list())"
    },
    "r": {
     "delete_cmd_postfix": ") ",
     "delete_cmd_prefix": "rm(",
     "library": "var_list.r",
     "varRefreshCmd": "cat(var_dic_list()) "
    }
   },
   "types_to_exclude": [
    "module",
    "function",
    "builtin_function_or_method",
    "instance",
    "_Feature"
   ],
   "window_display": false
  }
 },
 "nbformat": 4,
 "nbformat_minor": 2
}
