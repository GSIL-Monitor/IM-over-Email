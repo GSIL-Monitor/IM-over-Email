{
 "cells": [
  {
   "cell_type": "code",
   "execution_count": 12,
   "metadata": {
    "ExecuteTime": {
     "end_time": "2017-12-12T12:26:38.344668Z",
     "start_time": "2017-12-12T12:26:38.342305Z"
    }
   },
   "outputs": [],
   "source": [
    "# coding: utf-8"
   ]
  },
  {
   "cell_type": "code",
   "execution_count": 1,
   "metadata": {
    "ExecuteTime": {
     "end_time": "2018-01-01T11:46:38.066702Z",
     "start_time": "2018-01-01T11:46:38.063266Z"
    }
   },
   "outputs": [],
   "source": [
    "user_config = {\n",
    "    \"account\": \"pengym_111@163.com\",\n",
    "    \"password\": \"hvwoTxJndBEi8B4G\",\n",
    "    \"imap_server\": \"imap.163.com\",\n",
    "    \"imap_port\": 993,\n",
    "    \"smtp_server\": \"smtp.163.com\",\n",
    "    \"smtp_port\": 25\n",
    "}"
   ]
  },
  {
   "cell_type": "markdown",
   "metadata": {},
   "source": [
    "## 接收邮件"
   ]
  },
  {
   "cell_type": "code",
   "execution_count": 2,
   "metadata": {
    "ExecuteTime": {
     "end_time": "2018-01-01T11:46:39.149341Z",
     "start_time": "2018-01-01T11:46:39.109396Z"
    }
   },
   "outputs": [],
   "source": [
    "import imapy"
   ]
  },
  {
   "cell_type": "markdown",
   "metadata": {},
   "source": [
    "### 登录"
   ]
  },
  {
   "cell_type": "code",
   "execution_count": 3,
   "metadata": {
    "ExecuteTime": {
     "end_time": "2018-01-01T11:46:40.263881Z",
     "start_time": "2018-01-01T11:46:39.850524Z"
    }
   },
   "outputs": [],
   "source": [
    "mailbox = imapy.connect(\n",
    "    host = user_config['imap_server'],\n",
    "    username = user_config['account'],\n",
    "    password = user_config['password'],\n",
    "    ssl = True\n",
    ")"
   ]
  },
  {
   "cell_type": "markdown",
   "metadata": {},
   "source": [
    "### 解析邮件内容"
   ]
  },
  {
   "cell_type": "code",
   "execution_count": 4,
   "metadata": {
    "ExecuteTime": {
     "end_time": "2018-01-01T11:46:40.984778Z",
     "start_time": "2018-01-01T11:46:40.971435Z"
    }
   },
   "outputs": [],
   "source": [
    "def show_messages(messages):\n",
    "    for msg in messages:\n",
    "        print('-'*100)\n",
    "        print('Subject: ', msg['subject'])\n",
    "        print('From: ', msg['from_email'])\n",
    "        print('To: ', msg['to'])\n",
    "        print('Date: ', msg['date'])\n",
    "        print('*'*100)\n",
    "        print('Content: ')\n",
    "        content = msg['text'][0]['text']\n",
    "        print(content)\n",
    "        print('Attachments: ', msg['attachments'])\n",
    "        print('*'*100)"
   ]
  },
  {
   "cell_type": "code",
   "execution_count": 5,
   "metadata": {
    "ExecuteTime": {
     "end_time": "2018-01-01T11:46:41.694479Z",
     "start_time": "2018-01-01T11:46:41.682799Z"
    }
   },
   "outputs": [
    {
     "data": {
      "text/plain": [
       "['INBOX', '草稿箱', '已发送', '已删除', '垃圾邮件', '病毒文件夹', '订阅邮件']"
      ]
     },
     "execution_count": 5,
     "metadata": {},
     "output_type": "execute_result"
    }
   ],
   "source": [
    "mailbox.folders()"
   ]
  },
  {
   "cell_type": "code",
   "execution_count": 6,
   "metadata": {
    "ExecuteTime": {
     "end_time": "2018-01-01T11:46:43.800345Z",
     "start_time": "2018-01-01T11:46:42.153278Z"
    }
   },
   "outputs": [],
   "source": [
    "messages = mailbox.folder('INBOX').emails()"
   ]
  },
  {
   "cell_type": "markdown",
   "metadata": {},
   "source": [
    "### 根据给定条件过滤邮件"
   ]
  },
  {
   "cell_type": "code",
   "execution_count": 7,
   "metadata": {
    "ExecuteTime": {
     "end_time": "2018-01-01T11:46:46.134285Z",
     "start_time": "2018-01-01T11:46:43.822462Z"
    }
   },
   "outputs": [],
   "source": [
    "# Get emails in Sent folder:\n",
    "messages = mailbox.folder('已发送').emails()"
   ]
  },
  {
   "cell_type": "code",
   "execution_count": 8,
   "metadata": {
    "ExecuteTime": {
     "end_time": "2018-01-01T11:46:46.155097Z",
     "start_time": "2018-01-01T11:46:46.152222Z"
    }
   },
   "outputs": [],
   "source": [
    "from imapy.query_builder import Q"
   ]
  },
  {
   "cell_type": "code",
   "execution_count": 9,
   "metadata": {
    "ExecuteTime": {
     "end_time": "2018-01-01T11:46:47.196043Z",
     "start_time": "2018-01-01T11:46:46.175126Z"
    }
   },
   "outputs": [],
   "source": [
    "q = Q()\n",
    "# Get all unseen emails in inbox\n",
    "messages = mailbox.folder('INBOX').emails(\n",
    "    q.unanswered().unseen()\n",
    ")"
   ]
  },
  {
   "cell_type": "code",
   "execution_count": 10,
   "metadata": {
    "ExecuteTime": {
     "end_time": "2018-01-01T11:46:48.368781Z",
     "start_time": "2018-01-01T11:46:48.366192Z"
    }
   },
   "outputs": [],
   "source": [
    "show_messages(messages)"
   ]
  },
  {
   "cell_type": "code",
   "execution_count": null,
   "metadata": {},
   "outputs": [],
   "source": [
    "messagesess = mailbox.folder('INBOX')"
   ]
  },
  {
   "cell_type": "markdown",
   "metadata": {},
   "source": [
    "## 发送邮件"
   ]
  },
  {
   "cell_type": "code",
   "execution_count": 25,
   "metadata": {
    "ExecuteTime": {
     "end_time": "2017-12-12T12:55:29.537483Z",
     "start_time": "2017-12-12T12:55:29.532097Z"
    }
   },
   "outputs": [],
   "source": [
    "import smtplib\n",
    "from email.mime.text import MIMEText\n",
    "from email.header import Header\n",
    "from email.mime.application import MIMEApplication\n",
    "from email.mime.multipart import MIMEMultipart\n",
    "from email.utils import COMMASPACE, formatdate\n",
    "import os.path"
   ]
  },
  {
   "cell_type": "code",
   "execution_count": 26,
   "metadata": {
    "ExecuteTime": {
     "end_time": "2017-12-12T12:58:03.350853Z",
     "start_time": "2017-12-12T12:58:03.316817Z"
    }
   },
   "outputs": [],
   "source": [
    "def send_mail(conf, receivers, subject, content, attachments=None):\n",
    "    account = conf['account']\n",
    "    password = conf['password']\n",
    "    \n",
    "    message = MIMEMultipart()\n",
    "    message['From'] = account\n",
    "    message['To'] = ';'.join(receivers)\n",
    "    message['Subject'] = subject\n",
    "    message['Date'] = formatdate(localtime=True)\n",
    "    message.attach(MIMEText(content))\n",
    "    \n",
    "    for f in attachments or []:\n",
    "        with open(f, 'rb') as fil:\n",
    "            part = MIMEApplication(\n",
    "                fil.read(),\n",
    "                Name = os.path.basename(f)\n",
    "            )\n",
    "        part['Content-Disposition'] = 'attachment; filename=%s' % os.path.basename(f)\n",
    "        message.attach(part)\n",
    "    \n",
    "    try:\n",
    "        smtpObj = smtplib.SMTP()\n",
    "        smtpObj.connect(user_config['smtp_server'], user_config['smtp_port'])\n",
    "        smtpObj.login(account, password)\n",
    "        smtpObj.sendmail(account.format(account), receivers, message.as_string())\n",
    "        smtpObj.close()\n",
    "    except smtplib.SMTPException as e:\n",
    "        print(\"Error: Unable to send email!\")"
   ]
  },
  {
   "cell_type": "code",
   "execution_count": 27,
   "metadata": {
    "ExecuteTime": {
     "end_time": "2017-12-12T13:00:22.409632Z",
     "start_time": "2017-12-12T13:00:21.753481Z"
    }
   },
   "outputs": [],
   "source": [
    "send_mail(user_config, ['1048217874@qq.com'], '辣鸡，Project 做完了吗?', 'hhhhh', ['lenna.jpeg'])"
   ]
  },
  {
   "cell_type": "markdown",
   "metadata": {},
   "source": [
    "## UUID生成器"
   ]
  },
  {
   "cell_type": "code",
   "execution_count": 28,
   "metadata": {
    "ExecuteTime": {
     "end_time": "2017-12-12T12:26:39.841477Z",
     "start_time": "2017-12-12T12:26:38.105Z"
    }
   },
   "outputs": [],
   "source": [
    "import uuid"
   ]
  },
  {
   "cell_type": "code",
   "execution_count": 29,
   "metadata": {
    "ExecuteTime": {
     "end_time": "2017-12-12T12:26:39.842394Z",
     "start_time": "2017-12-12T12:26:38.107Z"
    }
   },
   "outputs": [],
   "source": [
    "code = uuid.uuid1()"
   ]
  },
  {
   "cell_type": "code",
   "execution_count": 30,
   "metadata": {
    "ExecuteTime": {
     "end_time": "2017-12-12T12:26:39.843122Z",
     "start_time": "2017-12-12T12:26:38.109Z"
    }
   },
   "outputs": [
    {
     "name": "stdout",
     "output_type": "stream",
     "text": [
      "b0a389ee-e27f-11e7-b002-88b1116f478b\n"
     ]
    }
   ],
   "source": [
    "print(code)"
   ]
  }
 ],
 "metadata": {
  "kernelspec": {
   "display_name": "Python 3",
   "language": "python",
   "name": "python3"
  },
  "language_info": {
   "codemirror_mode": {
    "name": "ipython",
    "version": 3
   },
   "file_extension": ".py",
   "mimetype": "text/x-python",
   "name": "python",
   "nbconvert_exporter": "python",
   "pygments_lexer": "ipython3",
   "version": "3.6.3"
  },
  "toc": {
   "nav_menu": {},
   "number_sections": true,
   "sideBar": true,
   "skip_h1_title": false,
   "toc_cell": false,
   "toc_position": {},
   "toc_section_display": "block",
   "toc_window_display": true
  },
  "varInspector": {
   "cols": {
    "lenName": 16.0,
    "lenType": 16.0,
    "lenVar": 40.0
   },
   "kernels_config": {
    "python": {
     "delete_cmd_postfix": "",
     "delete_cmd_prefix": "del ",
     "library": "var_list.py",
     "varRefreshCmd": "print(var_dic_list())"
    },
    "r": {
     "delete_cmd_postfix": ") ",
     "delete_cmd_prefix": "rm(",
     "library": "var_list.r",
     "varRefreshCmd": "cat(var_dic_list()) "
    }
   },
   "types_to_exclude": [
    "module",
    "function",
    "builtin_function_or_method",
    "instance",
    "_Feature"
   ],
   "window_display": false
  }
 },
 "nbformat": 4,
 "nbformat_minor": 2
}
