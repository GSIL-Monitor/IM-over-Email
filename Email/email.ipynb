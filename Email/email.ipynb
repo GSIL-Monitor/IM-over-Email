{
 "cells": [
  {
   "cell_type": "code",
   "execution_count": 1,
   "metadata": {
    "ExecuteTime": {
     "end_time": "2017-12-12T12:26:38.344668Z",
     "start_time": "2017-12-12T12:26:38.342305Z"
    }
   },
   "outputs": [],
   "source": [
    "# coding: utf-8"
   ]
  },
  {
   "cell_type": "code",
   "execution_count": 2,
   "metadata": {
    "ExecuteTime": {
     "end_time": "2017-12-12T12:27:01.337353Z",
     "start_time": "2017-12-12T12:27:01.333706Z"
    }
   },
   "outputs": [],
   "source": [
    " user_config = {\n",
    "        \"account\": \"gywang97_2@163.com\",\n",
    "        \"password\": \"1207wang\",\n",
    "        \"imap_server\": \"imap.163.com\",\n",
    "        \"imap_port\": 993,\n",
    "        \"smtp_server\": \"smtp.163.com\",\n",
    "        \"smtp_port\": 25\n",
    "    }"
   ]
  },
  {
   "cell_type": "markdown",
   "metadata": {},
   "source": [
    "## 接收邮件"
   ]
  },
  {
   "cell_type": "code",
   "execution_count": 3,
   "metadata": {
    "ExecuteTime": {
     "end_time": "2017-12-12T12:27:02.117220Z",
     "start_time": "2017-12-12T12:27:02.114744Z"
    }
   },
   "outputs": [],
   "source": [
    "import imapy"
   ]
  },
  {
   "cell_type": "markdown",
   "metadata": {},
   "source": [
    "### 登录"
   ]
  },
  {
   "cell_type": "code",
   "execution_count": 4,
   "metadata": {
    "ExecuteTime": {
     "end_time": "2017-12-12T13:10:31.493294Z",
     "start_time": "2017-12-12T13:10:30.498999Z"
    }
   },
   "outputs": [],
   "source": [
    "mailbox = imapy.connect(\n",
    "    host = user_config['imap_server'],\n",
    "    username = user_config['account'],\n",
    "    password = user_config['password'],\n",
    "    ssl = True\n",
    ")"
   ]
  },
  {
   "cell_type": "markdown",
   "metadata": {},
   "source": [
    "### 解析邮件内容"
   ]
  },
  {
   "cell_type": "code",
   "execution_count": 5,
   "metadata": {
    "ExecuteTime": {
     "end_time": "2017-12-12T13:12:34.530514Z",
     "start_time": "2017-12-12T13:12:34.518861Z"
    }
   },
   "outputs": [],
   "source": [
    "def show_messages(messages):\n",
    "    for msg in messages:\n",
    "        print('-'*100)\n",
    "        print('Subject: ', msg['subject'])\n",
    "        print('From: ', msg['from_email'])\n",
    "        print('To: ', msg['to'])\n",
    "        print('Date: ', msg['date'])\n",
    "        print('*'*100)\n",
    "        print('Content: ')\n",
    "        content = msg['text'][0]['text']\n",
    "        print(content)\n",
    "        print('Attachments: ', msg['attachments'])\n",
    "        print('*'*100)"
   ]
  },
  {
   "cell_type": "code",
   "execution_count": 6,
   "metadata": {
    "ExecuteTime": {
     "end_time": "2017-12-12T13:12:34.882899Z",
     "start_time": "2017-12-12T13:12:34.879002Z"
    }
   },
   "outputs": [
    {
     "data": {
      "text/plain": [
       "['INBOX', '草稿箱', '已发送', '已删除', '垃圾邮件', '病毒文件夹']"
      ]
     },
     "execution_count": 6,
     "metadata": {},
     "output_type": "execute_result"
    }
   ],
   "source": [
    "mailbox.folders()"
   ]
  },
  {
   "cell_type": "code",
   "execution_count": 7,
   "metadata": {},
   "outputs": [
    {
     "data": {
      "text/plain": [
       "<imapy.imap.IMAP at 0x161a1970d68>"
      ]
     },
     "execution_count": 7,
     "metadata": {},
     "output_type": "execute_result"
    }
   ],
   "source": [
    "mailbox.folder('INBOX')"
   ]
  },
  {
   "cell_type": "code",
   "execution_count": 8,
   "metadata": {
    "ExecuteTime": {
     "end_time": "2017-12-12T13:12:35.882111Z",
     "start_time": "2017-12-12T13:12:35.288285Z"
    }
   },
   "outputs": [],
   "source": [
    "messages = mailbox.folder('INBOX').emails()"
   ]
  },
  {
   "cell_type": "code",
   "execution_count": 9,
   "metadata": {
    "ExecuteTime": {
     "end_time": "2017-12-12T13:12:35.911666Z",
     "start_time": "2017-12-12T13:12:35.904822Z"
    }
   },
   "outputs": [
    {
     "ename": "TypeError",
     "evalue": "'bool' object is not iterable",
     "output_type": "error",
     "traceback": [
      "\u001b[1;31m---------------------------------------------------------------------------\u001b[0m",
      "\u001b[1;31mTypeError\u001b[0m                                 Traceback (most recent call last)",
      "\u001b[1;32m<ipython-input-9-3e177e0e60eb>\u001b[0m in \u001b[0;36m<module>\u001b[1;34m()\u001b[0m\n\u001b[1;32m----> 1\u001b[1;33m \u001b[0mshow_messages\u001b[0m\u001b[1;33m(\u001b[0m\u001b[0mmessages\u001b[0m\u001b[1;33m)\u001b[0m\u001b[1;33m\u001b[0m\u001b[0m\n\u001b[0m",
      "\u001b[1;32m<ipython-input-5-46f5f892d09b>\u001b[0m in \u001b[0;36mshow_messages\u001b[1;34m(messages)\u001b[0m\n\u001b[0;32m      1\u001b[0m \u001b[1;32mdef\u001b[0m \u001b[0mshow_messages\u001b[0m\u001b[1;33m(\u001b[0m\u001b[0mmessages\u001b[0m\u001b[1;33m)\u001b[0m\u001b[1;33m:\u001b[0m\u001b[1;33m\u001b[0m\u001b[0m\n\u001b[1;32m----> 2\u001b[1;33m     \u001b[1;32mfor\u001b[0m \u001b[0mmsg\u001b[0m \u001b[1;32min\u001b[0m \u001b[0mmessages\u001b[0m\u001b[1;33m:\u001b[0m\u001b[1;33m\u001b[0m\u001b[0m\n\u001b[0m\u001b[0;32m      3\u001b[0m         \u001b[0mprint\u001b[0m\u001b[1;33m(\u001b[0m\u001b[1;34m'-'\u001b[0m\u001b[1;33m*\u001b[0m\u001b[1;36m100\u001b[0m\u001b[1;33m)\u001b[0m\u001b[1;33m\u001b[0m\u001b[0m\n\u001b[0;32m      4\u001b[0m         \u001b[0mprint\u001b[0m\u001b[1;33m(\u001b[0m\u001b[1;34m'Subject: '\u001b[0m\u001b[1;33m,\u001b[0m \u001b[0mmsg\u001b[0m\u001b[1;33m[\u001b[0m\u001b[1;34m'subject'\u001b[0m\u001b[1;33m]\u001b[0m\u001b[1;33m)\u001b[0m\u001b[1;33m\u001b[0m\u001b[0m\n\u001b[0;32m      5\u001b[0m         \u001b[0mprint\u001b[0m\u001b[1;33m(\u001b[0m\u001b[1;34m'From: '\u001b[0m\u001b[1;33m,\u001b[0m \u001b[0mmsg\u001b[0m\u001b[1;33m[\u001b[0m\u001b[1;34m'from_email'\u001b[0m\u001b[1;33m]\u001b[0m\u001b[1;33m)\u001b[0m\u001b[1;33m\u001b[0m\u001b[0m\n",
      "\u001b[1;31mTypeError\u001b[0m: 'bool' object is not iterable"
     ]
    }
   ],
   "source": [
    "show_messages(messages)"
   ]
  },
  {
   "cell_type": "markdown",
   "metadata": {},
   "source": [
    "### 根据给定条件过滤邮件"
   ]
  },
  {
   "cell_type": "code",
   "execution_count": null,
   "metadata": {
    "ExecuteTime": {
     "end_time": "2017-12-12T13:12:37.664811Z",
     "start_time": "2017-12-12T13:12:37.094042Z"
    }
   },
   "outputs": [],
   "source": [
    "# Get emails in Sent folder:\n",
    "messages = mailbox.folder('已发送').emails()"
   ]
  },
  {
   "cell_type": "code",
   "execution_count": null,
   "metadata": {
    "ExecuteTime": {
     "end_time": "2017-12-12T13:12:37.695485Z",
     "start_time": "2017-12-12T13:12:37.688218Z"
    }
   },
   "outputs": [],
   "source": [
    "show_messages(messages)"
   ]
  },
  {
   "cell_type": "code",
   "execution_count": null,
   "metadata": {
    "ExecuteTime": {
     "end_time": "2017-12-12T13:10:37.632257Z",
     "start_time": "2017-12-12T13:10:37.629801Z"
    }
   },
   "outputs": [],
   "source": [
    "from imapy.query_builder import Q"
   ]
  },
  {
   "cell_type": "code",
   "execution_count": null,
   "metadata": {
    "ExecuteTime": {
     "end_time": "2017-12-12T13:16:28.814667Z",
     "start_time": "2017-12-12T13:16:26.615808Z"
    }
   },
   "outputs": [],
   "source": [
    "q = Q()\n",
    "# Get all unseen emails in inbox\n",
    "messages = mailbox.folder('INBOX').emails(\n",
    "    q.unanswered().unseen()\n",
    ")"
   ]
  },
  {
   "cell_type": "code",
   "execution_count": null,
   "metadata": {
    "ExecuteTime": {
     "end_time": "2017-12-12T13:16:28.844764Z",
     "start_time": "2017-12-12T13:16:28.839282Z"
    }
   },
   "outputs": [],
   "source": [
    "show_messages(messages)"
   ]
  },
  {
   "cell_type": "markdown",
   "metadata": {},
   "source": [
    "## 发送邮件"
   ]
  },
  {
   "cell_type": "code",
   "execution_count": null,
   "metadata": {
    "ExecuteTime": {
     "end_time": "2017-12-12T12:55:29.537483Z",
     "start_time": "2017-12-12T12:55:29.532097Z"
    }
   },
   "outputs": [],
   "source": [
    "import smtplib\n",
    "from email.mime.text import MIMEText\n",
    "from email.header import Header\n",
    "from email.mime.application import MIMEApplication\n",
    "from email.mime.multipart import MIMEMultipart\n",
    "from email.utils import COMMASPACE, formatdate\n",
    "import os.path"
   ]
  },
  {
   "cell_type": "code",
   "execution_count": null,
   "metadata": {
    "ExecuteTime": {
     "end_time": "2017-12-12T12:58:03.350853Z",
     "start_time": "2017-12-12T12:58:03.316817Z"
    }
   },
   "outputs": [],
   "source": [
    "def send_mail(conf, receivers, subject, content, attachments=None):\n",
    "    account = conf['account']\n",
    "    password = conf['password']\n",
    "    \n",
    "    message = MIMEMultipart()\n",
    "    message['From'] = account\n",
    "    message['To'] = ';'.join(receivers)\n",
    "    message['Subject'] = subject\n",
    "    message['Date'] = formatdate(localtime=True)\n",
    "    message.attach(MIMEText(content))\n",
    "    \n",
    "    for f in attachments or []:\n",
    "        with open(f, 'rb') as fil:\n",
    "            part = MIMEApplication(\n",
    "                fil.read(),\n",
    "                Name = os.path.basename(f)\n",
    "            )\n",
    "        part['Content-Disposition'] = 'attachment; filename=%s' % os.path.basename(f)\n",
    "        message.attach(part)\n",
    "    \n",
    "    try:\n",
    "        smtpObj = smtplib.SMTP()\n",
    "        smtpObj.connect(user_config['smtp_server'], user_config['smtp_port'])\n",
    "        smtpObj.login(account, password)\n",
    "        smtpObj.sendmail(account.format(account), receivers, message.as_string())\n",
    "        smtpObj.close()\n",
    "    except smtplib.SMTPException as e:\n",
    "        print(\"Error: Unable to send email!\")"
   ]
  },
  {
   "cell_type": "code",
   "execution_count": null,
   "metadata": {
    "ExecuteTime": {
     "end_time": "2017-12-12T13:00:22.409632Z",
     "start_time": "2017-12-12T13:00:21.753481Z"
    }
   },
   "outputs": [],
   "source": [
    "send_mail(user_config, ['1048217874@qq.com'], '辣鸡，Project 做完了吗?', 'hhhhh')"
   ]
  },
  {
   "cell_type": "markdown",
   "metadata": {},
   "source": [
    "## UUID生成器"
   ]
  },
  {
   "cell_type": "code",
   "execution_count": null,
   "metadata": {
    "ExecuteTime": {
     "end_time": "2017-12-12T12:26:39.841477Z",
     "start_time": "2017-12-12T12:26:38.105Z"
    }
   },
   "outputs": [],
   "source": [
    "import uuid"
   ]
  },
  {
   "cell_type": "code",
   "execution_count": null,
   "metadata": {
    "ExecuteTime": {
     "end_time": "2017-12-12T12:26:39.842394Z",
     "start_time": "2017-12-12T12:26:38.107Z"
    }
   },
   "outputs": [],
   "source": [
    "code = uuid.uuid1()"
   ]
  },
  {
   "cell_type": "code",
   "execution_count": null,
   "metadata": {
    "ExecuteTime": {
     "end_time": "2017-12-12T12:26:39.843122Z",
     "start_time": "2017-12-12T12:26:38.109Z"
    }
   },
   "outputs": [],
   "source": [
    "print(code)"
   ]
  },
  {
   "cell_type": "code",
   "execution_count": null,
   "metadata": {},
   "outputs": [],
   "source": []
  }
 ],
 "metadata": {
  "kernelspec": {
   "display_name": "Python 3",
   "language": "python",
   "name": "python3"
  },
  "language_info": {
   "codemirror_mode": {
    "name": "ipython",
    "version": 3
   },
   "file_extension": ".py",
   "mimetype": "text/x-python",
   "name": "python",
   "nbconvert_exporter": "python",
   "pygments_lexer": "ipython3",
   "version": "3.6.2"
  },
  "toc": {
   "nav_menu": {},
   "number_sections": true,
   "sideBar": true,
   "skip_h1_title": false,
   "toc_cell": false,
   "toc_position": {},
   "toc_section_display": "block",
   "toc_window_display": false
  },
  "varInspector": {
   "cols": {
    "lenName": 16,
    "lenType": 16,
    "lenVar": 40
   },
   "kernels_config": {
    "python": {
     "delete_cmd_postfix": "",
     "delete_cmd_prefix": "del ",
     "library": "var_list.py",
     "varRefreshCmd": "print(var_dic_list())"
    },
    "r": {
     "delete_cmd_postfix": ") ",
     "delete_cmd_prefix": "rm(",
     "library": "var_list.r",
     "varRefreshCmd": "cat(var_dic_list()) "
    }
   },
   "types_to_exclude": [
    "module",
    "function",
    "builtin_function_or_method",
    "instance",
    "_Feature"
   ],
   "window_display": false
  }
 },
 "nbformat": 4,
 "nbformat_minor": 2
}
