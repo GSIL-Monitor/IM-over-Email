{
 "cells": [
  {
   "cell_type": "code",
   "execution_count": 2,
   "metadata": {
    "ExecuteTime": {
     "end_time": "2017-12-12T07:39:39.833240Z",
     "start_time": "2017-12-12T07:39:39.830523Z"
    }
   },
   "outputs": [],
   "source": [
    "from imbox import Imbox\n",
    "from configparser import ConfigParser"
   ]
  },
  {
   "cell_type": "code",
   "execution_count": 4,
   "metadata": {
    "ExecuteTime": {
     "end_time": "2017-12-12T07:41:05.524369Z",
     "start_time": "2017-12-12T07:41:05.518127Z"
    }
   },
   "outputs": [],
   "source": [
    "conf = ConfigParser()\n",
    "conf.read('im.conf')\n",
    "\n",
    "account = conf.get('email', 'account')\n",
    "password = conf.get('email', 'password')\n",
    "imap_server = conf.get('email', 'server')"
   ]
  },
  {
   "cell_type": "code",
   "execution_count": 15,
   "metadata": {
    "ExecuteTime": {
     "end_time": "2017-12-12T07:46:35.575478Z",
     "start_time": "2017-12-12T07:46:34.594639Z"
    }
   },
   "outputs": [],
   "source": [
    "mailbox = Imbox(\n",
    "    imap_server,\n",
    "    username = account,\n",
    "    password = password,\n",
    "    ssl=True,\n",
    "    ssl_context=None,\n",
    "    starttls=False\n",
    ")"
   ]
  },
  {
   "cell_type": "code",
   "execution_count": 30,
   "metadata": {
    "ExecuteTime": {
     "end_time": "2017-12-12T07:56:13.230038Z",
     "start_time": "2017-12-12T07:56:11.297991Z"
    }
   },
   "outputs": [
    {
     "name": "stdout",
     "output_type": "stream",
     "text": [
      "----------------------------------------------------------------------------------------------------\n",
      "Subject:  网易邮箱提醒：一次被阻止的收信行为\n",
      "From:  [{'name': '网易邮件中心', 'email': 'mail@service.netease.com'}]\n",
      "To:  [{'name': 'pengym_111@163.com', 'email': 'pengym_111@163.com'}]\n",
      "Date:  Mon, 11 Dec 2017 23:38:59 +0800 (CST)\n",
      "****************************************************************************************************\n",
      "Content: \n",
      "[]\n",
      "****************************************************************************************************\n",
      "----------------------------------------------------------------------------------------------------\n",
      "----------------------------------------------------------------------------------------------------\n",
      "Subject:  Test\n",
      "From:  [{'name': '彭一明', 'email': '11510035@mail.sustc.edu.cn'}]\n",
      "To:  [{'name': '', 'email': 'pengym_111@163.com'}]\n",
      "Date:  Tue, 12 Dec 2017 11:09:30 +0800\n",
      "****************************************************************************************************\n",
      "Content: \n",
      "['<html xmlns=\"http://www.w3.org/1999/xhtml\">\\r\\n<head>\\r\\n<title></title>\\r\\n</head>\\r\\n<body>\\r\\n<div name=\"messageBodySection\">Hello world</div>\\r\\n<div name=\"messageSignatureSection\"><br />\\r\\n树礼书院<br />\\r\\n彭一明</div>\\r\\n</body>\\r\\n</html>\\r\\n']\n",
      "****************************************************************************************************\n",
      "----------------------------------------------------------------------------------------------------\n"
     ]
    }
   ],
   "source": [
    "for uid, msg in mailbox.messages():\n",
    "    print('-'*100)\n",
    "    print('Subject: ', msg.subject)\n",
    "    print('From: ', msg.sent_from)\n",
    "    print('To: ', msg.sent_to)\n",
    "    print('Date: ', msg.date)\n",
    "    print('*'*100)\n",
    "    print('Content: ')\n",
    "    content = [m.decode('utf-8') for m in msg.body['html']]\n",
    "    print(content)\n",
    "    print('*'*100)\n",
    "    print('-'*100)"
   ]
  },
  {
   "cell_type": "code",
   "execution_count": null,
   "metadata": {},
   "outputs": [],
   "source": []
  }
 ],
 "metadata": {
  "kernelspec": {
   "display_name": "Python 3",
   "language": "python",
   "name": "python3"
  },
  "language_info": {
   "codemirror_mode": {
    "name": "ipython",
    "version": 3
   },
   "file_extension": ".py",
   "mimetype": "text/x-python",
   "name": "python",
   "nbconvert_exporter": "python",
   "pygments_lexer": "ipython3",
   "version": "3.6.3"
  },
  "toc": {
   "nav_menu": {},
   "number_sections": true,
   "sideBar": true,
   "skip_h1_title": false,
   "toc_cell": false,
   "toc_position": {},
   "toc_section_display": "block",
   "toc_window_display": false
  },
  "varInspector": {
   "cols": {
    "lenName": 16,
    "lenType": 16,
    "lenVar": 40
   },
   "kernels_config": {
    "python": {
     "delete_cmd_postfix": "",
     "delete_cmd_prefix": "del ",
     "library": "var_list.py",
     "varRefreshCmd": "print(var_dic_list())"
    },
    "r": {
     "delete_cmd_postfix": ") ",
     "delete_cmd_prefix": "rm(",
     "library": "var_list.r",
     "varRefreshCmd": "cat(var_dic_list()) "
    }
   },
   "types_to_exclude": [
    "module",
    "function",
    "builtin_function_or_method",
    "instance",
    "_Feature"
   ],
   "window_display": false
  }
 },
 "nbformat": 4,
 "nbformat_minor": 2
}
