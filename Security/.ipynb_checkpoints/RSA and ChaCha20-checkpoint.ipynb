{
 "cells": [
  {
   "cell_type": "code",
   "execution_count": 1,
   "metadata": {},
   "outputs": [],
   "source": [
    "import rsa\n",
    "import multiprocessing"
   ]
  },
  {
   "cell_type": "markdown",
   "metadata": {},
   "source": [
    "Reference:"
   ]
  },
  {
   "cell_type": "markdown",
   "metadata": {},
   "source": [
    "rsa: https://stuvel.eu/python-rsa-doc/usage.html#signing-and-verification  \n",
    "\n",
    "cryptography: https://github.com/pyca/cryptography"
   ]
  },
  {
   "cell_type": "markdown",
   "metadata": {},
   "source": [
    "# environment"
   ]
  },
  {
   "cell_type": "markdown",
   "metadata": {},
   "source": [
    "## install rsa"
   ]
  },
  {
   "cell_type": "markdown",
   "metadata": {},
   "source": [
    "`pip install rsa`"
   ]
  },
  {
   "cell_type": "markdown",
   "metadata": {},
   "source": [
    "The RSA in pycryptodome is difficult to use"
   ]
  },
  {
   "cell_type": "markdown",
   "metadata": {},
   "source": [
    "## install cryptography"
   ]
  },
  {
   "cell_type": "markdown",
   "metadata": {},
   "source": [
    "`pip install cryptography`"
   ]
  },
  {
   "cell_type": "markdown",
   "metadata": {},
   "source": [
    "# Generating keys"
   ]
  },
  {
   "cell_type": "code",
   "execution_count": 2,
   "metadata": {},
   "outputs": [
    {
     "name": "stdout",
     "output_type": "stream",
     "text": [
      "PublicKey(9014475625053293037336751028730198569599507629947467696733862626786053340105782977319289248030876317864604618317846487868195143057020309303695538890439731, 65537)\n",
      "PrivateKey(9014475625053293037336751028730198569599507629947467696733862626786053340105782977319289248030876317864604618317846487868195143057020309303695538890439731, 65537, 2517814003030357340867742307107531391679799001574505946087147037296774437007345521358527902470630800359400746270816786042099998697619485792220958106245433, 6145094451772927469838362483996404678846175629973113678775502276541254255220052039, 1466938497983951650685788209979700374046892028900699226951745575863285429)\n"
     ]
    }
   ],
   "source": [
    "(pubkey, privkey) = rsa.newkeys(512)\n",
    "print (pubkey)\n",
    "print (privkey)"
   ]
  },
  {
   "cell_type": "markdown",
   "metadata": {},
   "source": [
    "Another way to speed up the key generation process is to use multiple processes in parallel to speed up the key generation. Use no more than the number of processes that your machine can run in parallel; a dual-core machine should use poolsize=2; a quad-core hyperthreading machine can run two threads on each core, and thus can use poolsize=8."
   ]
  },
  {
   "cell_type": "code",
   "execution_count": 3,
   "metadata": {},
   "outputs": [
    {
     "name": "stdout",
     "output_type": "stream",
     "text": [
      "PublicKey(8344253621212339319286681297742882060865107144100555208198857673447873755942818035336376770842072937358616162619967225752385880872743477607364810677344229, 65537)\n",
      "PrivateKey(8344253621212339319286681297742882060865107144100555208198857673447873755942818035336376770842072937358616162619967225752385880872743477607364810677344229, 65537, 5717106677957454147335548626158485026458731801753928780898626823181254481881994443421136563650611482453952776737688449182043422007248416261580942934141569, 6324746416564097276163780685747390073594021029158765279302710526301763609690438753, 1319302478176719422945330644867251056089788346529411178672698493883263493)\n"
     ]
    }
   ],
   "source": [
    "(pubkey, privkey) = rsa.newkeys(512, poolsize=multiprocessing.cpu_count())\n",
    "print (pubkey)\n",
    "print (privkey)"
   ]
  },
  {
   "cell_type": "markdown",
   "metadata": {},
   "source": [
    "# Encryption and decryption"
   ]
  },
  {
   "cell_type": "markdown",
   "metadata": {},
   "source": [
    "To encrypt or decrypt a message, use rsa.encrypt() resp. rsa.decrypt().\n",
    "Let’s say that Alice wants to send a message that only Bob can read."
   ]
  },
  {
   "cell_type": "markdown",
   "metadata": {},
   "source": [
    "1.Bob generates a keypair, and gives the public key to Alice. This is done such that Alice knows for sure that the key is really Bob’s (for example by handing over a USB stick that contains the key)."
   ]
  },
  {
   "cell_type": "code",
   "execution_count": 4,
   "metadata": {},
   "outputs": [],
   "source": [
    "(bob_pub, bob_priv) = rsa.newkeys(512)"
   ]
  },
  {
   "cell_type": "markdown",
   "metadata": {},
   "source": [
    "2.Alice writes a message, and encodes it in UTF-8. The RSA module only operates on bytes, and not on strings, so this step is necessary."
   ]
  },
  {
   "cell_type": "code",
   "execution_count": 5,
   "metadata": {},
   "outputs": [],
   "source": [
    "message = 'hello Bob!'.encode('utf8')"
   ]
  },
  {
   "cell_type": "markdown",
   "metadata": {},
   "source": [
    "3.Alice encrypts the message using Bob’s public key, and sends the encrypted message."
   ]
  },
  {
   "cell_type": "code",
   "execution_count": 6,
   "metadata": {},
   "outputs": [],
   "source": [
    "crypto = rsa.encrypt(message, bob_pub)"
   ]
  },
  {
   "cell_type": "markdown",
   "metadata": {},
   "source": [
    "4.Bob receives the message, and decrypts it with his private key."
   ]
  },
  {
   "cell_type": "code",
   "execution_count": 7,
   "metadata": {},
   "outputs": [
    {
     "name": "stdout",
     "output_type": "stream",
     "text": [
      "hello Bob!\n"
     ]
    }
   ],
   "source": [
    "message = rsa.decrypt(crypto, bob_priv)\n",
    "print(message.decode('utf8'))"
   ]
  },
  {
   "cell_type": "markdown",
   "metadata": {},
   "source": [
    "*RSA can only encrypt messages that are smaller than the key. A couple of bytes are lost on random padding, and the rest is available for the message itself. *For example, a 512-bit key can encode a 53-byte message (512 bit = 64 bytes, 11 bytes are used for random padding and other stuff). See Working with big files for information on how to work with larger files."
   ]
  },
  {
   "cell_type": "markdown",
   "metadata": {},
   "source": [
    "# Signing and verification"
   ]
  },
  {
   "cell_type": "markdown",
   "metadata": {},
   "source": [
    "create a detached signature\n",
    "This hashes the message using SHA-1. Other hash methods are also possible\n",
    "The RSA module only operates on bytes, and not on strings, so this step is necessary."
   ]
  },
  {
   "cell_type": "code",
   "execution_count": 8,
   "metadata": {},
   "outputs": [
    {
     "name": "stdout",
     "output_type": "stream",
     "text": [
      "b'9hE\\'\\xe1+\"\\xd8\\xf2\\xe6Q\\xec.(\\xc09\\xc6\\x0f\\xec\\xb7;\\xe9y,][\\rT\\x14a\\'\\xe5\\xfb\\x19\\xeb\\xeb\\xadd\\xd4\\xa2\\xee\\x1e\\xc8\\x91\\x0b\\xda\\x9e\\x9c\\xb4+\\xc5=\\x83\\xfaM[\\xca\\xc5(-~\\xac2\"'\n"
     ]
    }
   ],
   "source": [
    "(pubkey, privkey) = rsa.newkeys(512)\n",
    "message = 'Go left at the blue tree'\n",
    "signature = rsa.sign(message.encode('utf8'), privkey, 'SHA-1')\n",
    "print (signature)"
   ]
  },
  {
   "cell_type": "markdown",
   "metadata": {},
   "source": [
    "verify the signature"
   ]
  },
  {
   "cell_type": "code",
   "execution_count": 9,
   "metadata": {},
   "outputs": [
    {
     "data": {
      "text/plain": [
       "True"
      ]
     },
     "execution_count": 9,
     "metadata": {},
     "output_type": "execute_result"
    }
   ],
   "source": [
    "message = 'Go left at the blue tree'\n",
    "rsa.verify(message.encode('utf8'), signature, pubkey)"
   ]
  },
  {
   "cell_type": "markdown",
   "metadata": {},
   "source": [
    "*Never display the stack trace of a rsa.pkcs1.VerificationError exception. It shows where in the code the exception occurred, and thus leaks information about the key. It’s only a tiny bit of information, but every bit makes cracking the keys easier.*"
   ]
  },
  {
   "cell_type": "markdown",
   "metadata": {},
   "source": [
    "# ChaCha20"
   ]
  },
  {
   "cell_type": "code",
   "execution_count": 10,
   "metadata": {},
   "outputs": [
    {
     "name": "stdout",
     "output_type": "stream",
     "text": [
      "hello Bob你好!\n"
     ]
    }
   ],
   "source": [
    "import os\n",
    "from cryptography.hazmat.primitives.ciphers import Cipher, algorithms, modes\n",
    "from cryptography.hazmat.backends import default_backend\n",
    "\n",
    "key = os.urandom(32)\n",
    "nonce = os.urandom(16)\n",
    "\n",
    "algorithm = algorithms.ChaCha20(key, nonce)\n",
    "cipher = Cipher(algorithm, mode=None, backend=default_backend())\n",
    "encryptor = cipher.encryptor()\n",
    "\n",
    "message = 'hello Bob你好!'.encode('utf8')\n",
    "ct = encryptor.update(message)\n",
    "decryptor = cipher.decryptor()\n",
    "print(decryptor.update(ct).decode('utf8'))"
   ]
  },
  {
   "cell_type": "markdown",
   "metadata": {},
   "source": [
    "# Working with big files"
   ]
  },
  {
   "cell_type": "markdown",
   "metadata": {},
   "source": [
    "RSA can only encrypt messages that are smaller than the key.The most common way to use RSA with larger files uses a block cypher like AES or DES3 to encrypt the file with a random key, then encrypt the random key with RSA. You would send the encrypted file along with the encrypted key to the recipient. The complete flow is:"
   ]
  },
  {
   "cell_type": "markdown",
   "metadata": {},
   "source": [
    "## Generate a random key"
   ]
  },
  {
   "cell_type": "code",
   "execution_count": 11,
   "metadata": {},
   "outputs": [
    {
     "ename": "NameError",
     "evalue": "name 'aes_key' is not defined",
     "output_type": "error",
     "traceback": [
      "\u001b[1;31m---------------------------------------------------------------------------\u001b[0m",
      "\u001b[1;31mNameError\u001b[0m                                 Traceback (most recent call last)",
      "\u001b[1;32m<ipython-input-11-1bd1a5596583>\u001b[0m in \u001b[0;36m<module>\u001b[1;34m()\u001b[0m\n\u001b[0;32m      2\u001b[0m \u001b[0mchacha20_key\u001b[0m \u001b[1;33m=\u001b[0m \u001b[0mos\u001b[0m\u001b[1;33m.\u001b[0m\u001b[0murandom\u001b[0m\u001b[1;33m(\u001b[0m\u001b[1;36m32\u001b[0m\u001b[1;33m)\u001b[0m \u001b[1;31m# must be 32 bytes\u001b[0m\u001b[1;33m\u001b[0m\u001b[0m\n\u001b[0;32m      3\u001b[0m \u001b[0mnonce\u001b[0m \u001b[1;33m=\u001b[0m \u001b[0mos\u001b[0m\u001b[1;33m.\u001b[0m\u001b[0murandom\u001b[0m\u001b[1;33m(\u001b[0m\u001b[1;36m16\u001b[0m\u001b[1;33m)\u001b[0m \u001b[1;31m# nonce\u001b[0m\u001b[1;33m\u001b[0m\u001b[0m\n\u001b[1;32m----> 4\u001b[1;33m \u001b[0mprint\u001b[0m \u001b[1;33m(\u001b[0m\u001b[0maes_key\u001b[0m\u001b[1;33m)\u001b[0m\u001b[1;33m\u001b[0m\u001b[0m\n\u001b[0m",
      "\u001b[1;31mNameError\u001b[0m: name 'aes_key' is not defined"
     ]
    }
   ],
   "source": [
    "import os\n",
    "chacha20_key = os.urandom(32) # must be 32 bytes\n",
    "nonce = os.urandom(16) # nonce"
   ]
  },
  {
   "cell_type": "markdown",
   "metadata": {},
   "source": [
    "## Use that key to encrypt the file with ChaCha20."
   ]
  },
  {
   "cell_type": "markdown",
   "metadata": {},
   "source": [
    "message.txt : original file  \n",
    "encrypted.bin : encrypted file  \n",
    "decrypted.txt: decrypted file"
   ]
  },
  {
   "cell_type": "markdown",
   "metadata": {},
   "source": [
    "### Encrypt data with ChaCha20"
   ]
  },
  {
   "cell_type": "code",
   "execution_count": null,
   "metadata": {},
   "outputs": [],
   "source": [
    "with open('message.txt','rb') as f:\n",
    "    data = f.read()\n",
    "    f.close()\n",
    "    \n",
    "cipher = Cipher(algorithms.ChaCha20(key, nonce), mode=None, backend=default_backend())\n",
    "encryptor = cipher.encryptor()\n",
    "ct = encryptor.update(data)\n",
    "with open('encrypted.bin','wb') as f:\n",
    "    f.write(ct)\n",
    "    f.close()\n",
    "\n"
   ]
  },
  {
   "cell_type": "markdown",
   "metadata": {},
   "source": [
    "## Encrypt the ChaCha20 key with RSA"
   ]
  },
  {
   "cell_type": "code",
   "execution_count": null,
   "metadata": {},
   "outputs": [],
   "source": [
    "(public_rsa_key, privkey) = rsa.newkeys(512)\n",
    "encrypted_chacha20_key = rsa.encrypt(chacha20_key, public_rsa_key)"
   ]
  },
  {
   "cell_type": "markdown",
   "metadata": {},
   "source": [
    "4.Send the encrypted file together with encrypted_aes_key"
   ]
  },
  {
   "cell_type": "markdown",
   "metadata": {},
   "source": [
    "5.The recipient now reverses this process to obtain the encrypted file."
   ]
  },
  {
   "cell_type": "code",
   "execution_count": null,
   "metadata": {},
   "outputs": [],
   "source": [
    "key = rsa.decrypt(encrypted_chacha20_key,privkey)\n",
    "cipher = Cipher(algorithms.ChaCha20(key, nonce), mode=None, backend=default_backend())\n",
    "decryptor = cipher.decryptor()\n",
    "with  open(\"encrypted.bin\", \"rb\") as file_in:\n",
    "    encrypted_data = file_in.read()\n",
    "    file_in.close()\n",
    "\n",
    "decrypted_data = decryptor.update(encrypted_data)\n",
    "with open('decrypted.txt','wb') as f:\n",
    "    f.write(decrypted_data)\n",
    "    f.close()"
   ]
  },
  {
   "cell_type": "code",
   "execution_count": null,
   "metadata": {},
   "outputs": [],
   "source": [
    "print(data)"
   ]
  },
  {
   "cell_type": "code",
   "execution_count": null,
   "metadata": {},
   "outputs": [],
   "source": [
    "print(decrypted_data)"
   ]
  }
 ],
 "metadata": {
  "kernelspec": {
   "display_name": "Python 3",
   "language": "python",
   "name": "python3"
  },
  "language_info": {
   "codemirror_mode": {
    "name": "ipython",
    "version": 3
   },
   "file_extension": ".py",
   "mimetype": "text/x-python",
   "name": "python",
   "nbconvert_exporter": "python",
   "pygments_lexer": "ipython3",
   "version": "3.6.2"
  },
  "toc": {
   "nav_menu": {},
   "number_sections": true,
   "sideBar": true,
   "skip_h1_title": false,
   "toc_cell": false,
   "toc_position": {},
   "toc_section_display": "block",
   "toc_window_display": false
  },
  "varInspector": {
   "cols": {
    "lenName": 16,
    "lenType": 16,
    "lenVar": 40
   },
   "kernels_config": {
    "python": {
     "delete_cmd_postfix": "",
     "delete_cmd_prefix": "del ",
     "library": "var_list.py",
     "varRefreshCmd": "print(var_dic_list())"
    },
    "r": {
     "delete_cmd_postfix": ") ",
     "delete_cmd_prefix": "rm(",
     "library": "var_list.r",
     "varRefreshCmd": "cat(var_dic_list()) "
    }
   },
   "types_to_exclude": [
    "module",
    "function",
    "builtin_function_or_method",
    "instance",
    "_Feature"
   ],
   "window_display": false
  }
 },
 "nbformat": 4,
 "nbformat_minor": 2
}
