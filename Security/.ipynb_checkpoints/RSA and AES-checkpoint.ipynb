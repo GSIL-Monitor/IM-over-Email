{
 "cells": [
  {
   "cell_type": "code",
   "execution_count": 42,
   "metadata": {},
   "outputs": [],
   "source": [
    "import rsa\n",
    "import multiprocessing"
   ]
  },
  {
   "cell_type": "markdown",
   "metadata": {},
   "source": [
    "Reference:"
   ]
  },
  {
   "cell_type": "markdown",
   "metadata": {},
   "source": [
    "rsa: https://stuvel.eu/python-rsa-doc/usage.html#signing-and-verification  \n",
    "\n",
    "pycrypotodome: https://www.pycryptodome.org/en/latest/index.html"
   ]
  },
  {
   "cell_type": "markdown",
   "metadata": {},
   "source": [
    "# environment"
   ]
  },
  {
   "cell_type": "markdown",
   "metadata": {},
   "source": [
    "## install rsa"
   ]
  },
  {
   "cell_type": "markdown",
   "metadata": {},
   "source": [
    "`pip install rsa`"
   ]
  },
  {
   "cell_type": "markdown",
   "metadata": {},
   "source": [
    "The RSA in pycryptodome is difficult to use"
   ]
  },
  {
   "cell_type": "markdown",
   "metadata": {},
   "source": [
    "## install pycryptodome"
   ]
  },
  {
   "cell_type": "markdown",
   "metadata": {},
   "source": [
    "*Never install PyCrypto,use pycryptodome !*"
   ]
  },
  {
   "cell_type": "markdown",
   "metadata": {},
   "source": [
    "1.a drop-in replacement for the old PyCrypto library. You install it with:`pip install pycryptodome`In this case, all modules are installed under the Crypto package. You can test everything is right with:`python -m Crypto.SelfTest`*One must avoid having both PyCrypto and PyCryptodome installed at the same time, as they will interfere with each other.* SelfTest will cost 1 min"
   ]
  },
  {
   "cell_type": "markdown",
   "metadata": {},
   "source": [
    "2.a library independent of the old PyCrypto. You install it with:`pip install pycryptodomex`\n",
    "You can test everything is right with:`python -m Cryptodome.SelfTest`In this case, all modules are installed under the Cryptodome package. PyCrypto and PyCryptodome can coexist."
   ]
  },
  {
   "cell_type": "markdown",
   "metadata": {},
   "source": [
    "see more:https://www.pycryptodome.org/en/latest/src/installation.html"
   ]
  },
  {
   "cell_type": "markdown",
   "metadata": {},
   "source": [
    "*If you install PyCrypto without Microsoft Visual C++, you will in big trouble. But you can just install pycryptodome*   \n",
    "I got this error:"
   ]
  },
  {
   "cell_type": "markdown",
   "metadata": {},
   "source": [
    "warning: GMP or MPIR library not found; Not building Crypto.PublicKey._fastmath.\n",
    "    building 'Crypto.Random.OSRNG.winrandom' extension\n",
    "    error: Microsoft Visual C++ 14.0 is required. Get it with \"Microsoft Visual C++ Build Tools\": http://landinghub.visualstudio.com/visual-cpp-build-tools"
   ]
  },
  {
   "cell_type": "markdown",
   "metadata": {},
   "source": [
    "https://stackoverflow.com/questions/11405549/how-do-i-install-pycrypto-on-windows\n",
    "https://stackoverflow.com/questions/32800336/pycrypto-on-python-3-5  \n",
    "https://www.pycryptodome.org/en/latest/src/installation.html"
   ]
  },
  {
   "cell_type": "markdown",
   "metadata": {},
   "source": [
    "# Generating keys"
   ]
  },
  {
   "cell_type": "code",
   "execution_count": 43,
   "metadata": {},
   "outputs": [
    {
     "name": "stdout",
     "output_type": "stream",
     "text": [
      "PublicKey(10519164108389327680989331008616234297236516678424550755733276376281916813155014277755530108691567124482554158100801509442805895676698443704879180602121301, 65537)\n",
      "PrivateKey(10519164108389327680989331008616234297236516678424550755733276376281916813155014277755530108691567124482554158100801509442805895676698443704879180602121301, 65537, 5299628614840453810380483257434591513590114098726243448018696604850333844010363876338461682518046032131688083076790560135170425848973724261999215187323329, 6113182022003849817327350375553650095846789869424589878836754638052505984441624009, 1720734646952526676610337162362933351218813745386064377250936326400620589)\n"
     ]
    }
   ],
   "source": [
    "(pubkey, privkey) = rsa.newkeys(512)\n",
    "print (pubkey)\n",
    "print (privkey)"
   ]
  },
  {
   "cell_type": "markdown",
   "metadata": {},
   "source": [
    "Another way to speed up the key generation process is to use multiple processes in parallel to speed up the key generation. Use no more than the number of processes that your machine can run in parallel; a dual-core machine should use poolsize=2; a quad-core hyperthreading machine can run two threads on each core, and thus can use poolsize=8."
   ]
  },
  {
   "cell_type": "code",
   "execution_count": 44,
   "metadata": {},
   "outputs": [
    {
     "name": "stdout",
     "output_type": "stream",
     "text": [
      "PublicKey(8227028887144762825046718973385699756471149125334116214488109713716508819760832523501897909634011905925863156736733180799190253477537122910133800942644427, 65537)\n",
      "PrivateKey(8227028887144762825046718973385699756471149125334116214488109713716508819760832523501897909634011905925863156736733180799190253477537122910133800942644427, 65537, 96032425937497040773314921565528790052953737291615406626537740985903066091149356965262986517966736447278112596377464264842445823729134226917420161480473, 6145596695454138806784876762557918663089765192010765062101803339730184369619648101, 1338686753270068468145374996615870112285184182291111208239443594560975727)\n"
     ]
    }
   ],
   "source": [
    "(pubkey, privkey) = rsa.newkeys(512, poolsize=multiprocessing.cpu_count())\n",
    "print (pubkey)\n",
    "print (privkey)"
   ]
  },
  {
   "cell_type": "markdown",
   "metadata": {},
   "source": [
    "# Encryption and decryption"
   ]
  },
  {
   "cell_type": "markdown",
   "metadata": {},
   "source": [
    "To encrypt or decrypt a message, use rsa.encrypt() resp. rsa.decrypt().\n",
    "Let’s say that Alice wants to send a message that only Bob can read."
   ]
  },
  {
   "cell_type": "markdown",
   "metadata": {},
   "source": [
    "1.Bob generates a keypair, and gives the public key to Alice. This is done such that Alice knows for sure that the key is really Bob’s (for example by handing over a USB stick that contains the key)."
   ]
  },
  {
   "cell_type": "code",
   "execution_count": 45,
   "metadata": {},
   "outputs": [],
   "source": [
    "(bob_pub, bob_priv) = rsa.newkeys(512)"
   ]
  },
  {
   "cell_type": "markdown",
   "metadata": {},
   "source": [
    "2.Alice writes a message, and encodes it in UTF-8. The RSA module only operates on bytes, and not on strings, so this step is necessary."
   ]
  },
  {
   "cell_type": "code",
   "execution_count": 46,
   "metadata": {},
   "outputs": [],
   "source": [
    "message = 'hello Bob!'.encode('utf8')"
   ]
  },
  {
   "cell_type": "markdown",
   "metadata": {},
   "source": [
    "3.Alice encrypts the message using Bob’s public key, and sends the encrypted message."
   ]
  },
  {
   "cell_type": "code",
   "execution_count": 47,
   "metadata": {},
   "outputs": [],
   "source": [
    "crypto = rsa.encrypt(message, bob_pub)"
   ]
  },
  {
   "cell_type": "markdown",
   "metadata": {},
   "source": [
    "4.Bob receives the message, and decrypts it with his private key."
   ]
  },
  {
   "cell_type": "code",
   "execution_count": 48,
   "metadata": {},
   "outputs": [
    {
     "name": "stdout",
     "output_type": "stream",
     "text": [
      "hello Bob!\n"
     ]
    }
   ],
   "source": [
    "message = rsa.decrypt(crypto, bob_priv)\n",
    "print(message.decode('utf8'))"
   ]
  },
  {
   "cell_type": "markdown",
   "metadata": {},
   "source": [
    "*RSA can only encrypt messages that are smaller than the key. A couple of bytes are lost on random padding, and the rest is available for the message itself. *For example, a 512-bit key can encode a 53-byte message (512 bit = 64 bytes, 11 bytes are used for random padding and other stuff). See Working with big files for information on how to work with larger files."
   ]
  },
  {
   "cell_type": "markdown",
   "metadata": {},
   "source": [
    "# Signing and verification"
   ]
  },
  {
   "cell_type": "markdown",
   "metadata": {},
   "source": [
    "create a detached signature\n",
    "This hashes the message using SHA-1. Other hash methods are also possible\n",
    "The RSA module only operates on bytes, and not on strings, so this step is necessary."
   ]
  },
  {
   "cell_type": "code",
   "execution_count": 49,
   "metadata": {},
   "outputs": [
    {
     "name": "stdout",
     "output_type": "stream",
     "text": [
      "b\"\\x06@G?\\x9af2[T\\x12\\xc5b\\xd7\\xcd\\xfa\\xfc\\x8d\\x17\\x98\\x00'\\xf2f\\xa5\\xb1.\\xb8\\x1by\\xb7R\\x1e!\\x0f3\\xa3\\x1ad\\xb4,\\x9fHM9\\xffD\\xbc\\x90\\x0f\\x8b\\xab\\xf7}\\x1e/\\xd5\\xd3\\xf8\\x02\\xb7;\\xb5\\x1b\\xed\"\n"
     ]
    }
   ],
   "source": [
    "(pubkey, privkey) = rsa.newkeys(512)\n",
    "message = 'Go left at the blue tree'\n",
    "signature = rsa.sign(message.encode('utf8'), privkey, 'SHA-1')\n",
    "print (signature)"
   ]
  },
  {
   "cell_type": "markdown",
   "metadata": {},
   "source": [
    "verify the signature"
   ]
  },
  {
   "cell_type": "code",
   "execution_count": 50,
   "metadata": {},
   "outputs": [
    {
     "data": {
      "text/plain": [
       "True"
      ]
     },
     "execution_count": 50,
     "metadata": {},
     "output_type": "execute_result"
    }
   ],
   "source": [
    "message = 'Go left at the blue tree'\n",
    "rsa.verify(message.encode('utf8'), signature, pubkey)"
   ]
  },
  {
   "cell_type": "markdown",
   "metadata": {},
   "source": [
    "*Never display the stack trace of a rsa.pkcs1.VerificationError exception. It shows where in the code the exception occurred, and thus leaks information about the key. It’s only a tiny bit of information, but every bit makes cracking the keys easier.*"
   ]
  },
  {
   "cell_type": "markdown",
   "metadata": {},
   "source": [
    "# Working with big files"
   ]
  },
  {
   "cell_type": "markdown",
   "metadata": {},
   "source": [
    "RSA can only encrypt messages that are smaller than the key.The most common way to use RSA with larger files uses a block cypher like AES or DES3 to encrypt the file with a random key, then encrypt the random key with RSA. You would send the encrypted file along with the encrypted key to the recipient. The complete flow is:"
   ]
  },
  {
   "cell_type": "markdown",
   "metadata": {},
   "source": [
    "## Generate a random key"
   ]
  },
  {
   "cell_type": "code",
   "execution_count": 51,
   "metadata": {},
   "outputs": [
    {
     "name": "stdout",
     "output_type": "stream",
     "text": [
      "b'\\xbc8|&\\xecb\\xdb\\xd56\\x06\\xefv\\x95\\\\\\xb0\\x8e'\n"
     ]
    }
   ],
   "source": [
    "import rsa.randnum\n",
    "aes_key = rsa.randnum.read_random_bits(16*8) # 16 bytes\n",
    "print (aes_key)"
   ]
  },
  {
   "cell_type": "markdown",
   "metadata": {},
   "source": [
    "## Use that key to encrypt the file with AES."
   ]
  },
  {
   "cell_type": "markdown",
   "metadata": {},
   "source": [
    "message.txt : original file  \n",
    "encrypted.bin : encrypted file  \n",
    "decrypted.txt: decrypted file"
   ]
  },
  {
   "cell_type": "markdown",
   "metadata": {},
   "source": [
    "### Encrypt data with AES"
   ]
  },
  {
   "cell_type": "code",
   "execution_count": 56,
   "metadata": {},
   "outputs": [
    {
     "name": "stdout",
     "output_type": "stream",
     "text": [
      "16\n"
     ]
    }
   ],
   "source": [
    "from Crypto.Cipher import AES\n",
    "with open('message.txt','rb') as f:\n",
    "    data = f.read()\n",
    "    f.close()\n",
    "cipher = AES.new(aes_key,AES.MODE_EAX)\n",
    "ciphertext, tag = cipher.encrypt_and_digest(data)\n",
    "file_out = open('encrypted.bin','wb')\n",
    "[ file_out.write(x) for x in (cipher.nonce, tag, ciphertext) ]\n",
    "print(len(cipher.nonce))"
   ]
  },
  {
   "cell_type": "markdown",
   "metadata": {},
   "source": [
    "## Encrypt the AES key with RSA"
   ]
  },
  {
   "cell_type": "code",
   "execution_count": 53,
   "metadata": {},
   "outputs": [],
   "source": [
    "(public_rsa_key, privkey) = rsa.newkeys(512)\n",
    "encrypted_aes_key = rsa.encrypt(aes_key, public_rsa_key)"
   ]
  },
  {
   "cell_type": "markdown",
   "metadata": {},
   "source": [
    "4.Send the encrypted file together with encrypted_aes_key"
   ]
  },
  {
   "cell_type": "markdown",
   "metadata": {},
   "source": [
    "5.The recipient now reverses this process to obtain the encrypted file."
   ]
  },
  {
   "cell_type": "code",
   "execution_count": 57,
   "metadata": {},
   "outputs": [
    {
     "name": "stdout",
     "output_type": "stream",
     "text": [
      "True\n",
      "16\n"
     ]
    }
   ],
   "source": [
    "from Crypto.Cipher import AES\n",
    "key = rsa.decrypt(encrypted_aes_key,privkey)\n",
    "print (key == aes_key)\n",
    "file_in = open(\"encrypted.bin\", \"rb\")\n",
    "nonce, tag, ciphertext = [ file_in.read(x) for x in (16, 16, -1) ]\n",
    "print(len(nonce))\n",
    "\n",
    "cipher = AES.new(key, AES.MODE_EAX, nonce)\n",
    "decrypted_data = cipher.decrypt_and_verify(ciphertext, tag)\n",
    "with open('decrypted.txt','wb') as f:\n",
    "    f.write(decrypted_data)\n",
    "    f.close()"
   ]
  },
  {
   "cell_type": "code",
   "execution_count": 58,
   "metadata": {},
   "outputs": [
    {
     "name": "stdout",
     "output_type": "stream",
     "text": [
      "b\"The Witcher 3: Wild Hunt[a] is a 2015 action role-playing video game developed and published by CD Projekt. \\r\\nBased on The Witcher series of fantasy novels by Polish author Andrzej Sapkowski, \\r\\nit is the sequel to the 2011 video game The Witcher 2: Assassins of Kings and the third installment in The Witcher video game series. \\r\\nPlayed in an open world with a third-person perspective, players control protagonist Geralt of Rivia. \\r\\nGeralt, a monster hunter known as a Witcher, is looking for his missing adopted daughter, \\r\\nwho is on the run from the Wild Hunt: an otherworldly force determined to capture and use her powers. \\r\\nPlayers battle the game's many dangers with weapons and magic, interact with non-player characters, \\r\\nand complete main-story and side quests to acquire experience points and gold, \\r\\nwhich are used to increase Geralt's abilities and purchase equipment. Its central story has several endings, \\r\\ndetermined by the player's choices at certain points in the game.\\r\\n\\r\\nDevelopment began in 2011 and lasted for three-and-a-half years, of which over two-and-a-half years were devoted to voice recording. \\r\\nThe writing was infused with real-life aspects like moral ambiguity in a deliberate attempt to avoid simplification, impart authenticity, \\r\\nand reflect Sapkowski's novels. Europe was the basis of the game's open world, with Poland, Amsterdam, and Scandinavia as its primary inspirations. \\r\\nREDengine 3 enabled the developer to create a complex story without compromising the game world, whose size was enlarged by PlayStation 4 and Xbox One technology. \\r\\nThe music was primarily composed by Marcin Przyby\\xc5\\x82owicz and performed in Germany by the Brandenburg State Orchestra.\\r\\n\\r\\nThe Witcher 3: Wild Hunt was released worldwide for Microsoft Windows, PlayStation 4, and Xbox One on 19 May 2015. \\r\\nThe game received critical acclaim, with praise of its gameplay, narrative, world design, combat, and visuals, \\r\\nalthough it suffered criticism due to technical issues, some of which were later patched. It was 2015's most-awarded game, \\r\\nreceiving Game of the Year awards from gaming publications, critics, and award events, and is considered one of the greatest games \\r\\nof all time. The game was a commercial success, selling over six million copies within six weeks of its release and ten million copies overall. \\r\\nTwo expansion packs, Hearts of Stone and Blood and Wine, were also released. A Game of the Year edition, with the base game, \\r\\nexpansion packs and all downloadable content, was released in August 2016.\"\n"
     ]
    }
   ],
   "source": [
    "print(data)"
   ]
  },
  {
   "cell_type": "code",
   "execution_count": 59,
   "metadata": {},
   "outputs": [
    {
     "name": "stdout",
     "output_type": "stream",
     "text": [
      "b\"The Witcher 3: Wild Hunt[a] is a 2015 action role-playing video game developed and published by CD Projekt. \\r\\nBased on The Witcher series of fantasy novels by Polish author Andrzej Sapkowski, \\r\\nit is the sequel to the 2011 video game The Witcher 2: Assassins of Kings and the third installment in The Witcher video game series. \\r\\nPlayed in an open world with a third-person perspective, players control protagonist Geralt of Rivia. \\r\\nGeralt, a monster hunter known as a Witcher, is looking for his missing adopted daughter, \\r\\nwho is on the run from the Wild Hunt: an otherworldly force determined to capture and use her powers. \\r\\nPlayers battle the game's many dangers with weapons and magic, interact with non-player characters, \\r\\nand complete main-story and side quests to acquire experience points and gold, \\r\\nwhich are used to increase Geralt's abilities and purchase equipment. Its central story has several endings, \\r\\ndetermined by the player's choices at certain points in the game.\\r\\n\\r\\nDevelopment began in 2011 and lasted for three-and-a-half years, of which over two-and-a-half years were devoted to voice recording. \\r\\nThe writing was infused with real-life aspects like moral ambiguity in a deliberate attempt to avoid simplification, impart authenticity, \\r\\nand reflect Sapkowski's novels. Europe was the basis of the game's open world, with Poland, Amsterdam, and Scandinavia as its primary inspirations. \\r\\nREDengine 3 enabled the developer to create a complex story without compromising the game world, whose size was enlarged by PlayStation 4 and Xbox One technology. \\r\\nThe music was primarily composed by Marcin Przyby\\xc5\\x82owicz and performed in Germany by the Brandenburg State Orchestra.\\r\\n\\r\\nThe Witcher 3: Wild Hunt was released worldwide for Microsoft Windows, PlayStation 4, and Xbox One on 19 May 2015. \\r\\nThe game received critical acclaim, with praise of its gameplay, narrative, world design, combat, and visuals, \\r\\nalthough it suffered criticism due to technical issues, some of which were later patched. It was 2015's most-awarded game, \\r\\nreceiving Game of the Year awards from gaming publications, critics, and award events, and is considered one of the greatest games \\r\\nof all time. The game was a commercial success, selling over six million copies within six weeks of its release and ten million copies overall. \\r\\nTwo expansion packs, Hearts of Stone and Blood and Wine, were also released. A Game of the Year edition, with the base game, \\r\\nexpansion packs and all downloadable content, was released in August 2016.\"\n"
     ]
    }
   ],
   "source": [
    "print(decrypted_data)"
   ]
  }
 ],
 "metadata": {
  "kernelspec": {
   "display_name": "Python 3",
   "language": "python",
   "name": "python3"
  },
  "language_info": {
   "codemirror_mode": {
    "name": "ipython",
    "version": 3
   },
   "file_extension": ".py",
   "mimetype": "text/x-python",
   "name": "python",
   "nbconvert_exporter": "python",
   "pygments_lexer": "ipython3",
   "version": "3.6.2"
  },
  "toc": {
   "nav_menu": {},
   "number_sections": true,
   "sideBar": true,
   "skip_h1_title": false,
   "toc_cell": false,
   "toc_position": {},
   "toc_section_display": "block",
   "toc_window_display": false
  },
  "varInspector": {
   "cols": {
    "lenName": 16,
    "lenType": 16,
    "lenVar": 40
   },
   "kernels_config": {
    "python": {
     "delete_cmd_postfix": "",
     "delete_cmd_prefix": "del ",
     "library": "var_list.py",
     "varRefreshCmd": "print(var_dic_list())"
    },
    "r": {
     "delete_cmd_postfix": ") ",
     "delete_cmd_prefix": "rm(",
     "library": "var_list.r",
     "varRefreshCmd": "cat(var_dic_list()) "
    }
   },
   "types_to_exclude": [
    "module",
    "function",
    "builtin_function_or_method",
    "instance",
    "_Feature"
   ],
   "window_display": false
  }
 },
 "nbformat": 4,
 "nbformat_minor": 2
}
