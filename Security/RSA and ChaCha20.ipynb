{
 "cells": [
  {
   "cell_type": "code",
   "execution_count": 40,
   "metadata": {},
   "outputs": [],
   "source": [
    "import rsa\n",
    "import multiprocessing"
   ]
  },
  {
   "cell_type": "markdown",
   "metadata": {},
   "source": [
    "Reference:"
   ]
  },
  {
   "cell_type": "markdown",
   "metadata": {},
   "source": [
    "rsa: https://stuvel.eu/python-rsa-doc/usage.html#signing-and-verification  \n",
    "\n",
    "cryptography: https://github.com/pyca/cryptography"
   ]
  },
  {
   "cell_type": "markdown",
   "metadata": {},
   "source": [
    "# environment"
   ]
  },
  {
   "cell_type": "markdown",
   "metadata": {},
   "source": [
    "## install rsa"
   ]
  },
  {
   "cell_type": "markdown",
   "metadata": {},
   "source": [
    "`pip install rsa`"
   ]
  },
  {
   "cell_type": "markdown",
   "metadata": {},
   "source": [
    "The RSA in pycryptodome is difficult to use"
   ]
  },
  {
   "cell_type": "markdown",
   "metadata": {},
   "source": [
    "## install cryptography"
   ]
  },
  {
   "cell_type": "markdown",
   "metadata": {},
   "source": [
    "`pip install cryptography`"
   ]
  },
  {
   "cell_type": "markdown",
   "metadata": {},
   "source": [
    "# Generating keys"
   ]
  },
  {
   "cell_type": "code",
   "execution_count": 41,
   "metadata": {},
   "outputs": [
    {
     "name": "stdout",
     "output_type": "stream",
     "text": [
      "PublicKey(12861544132625847745033511106601970583073708486957997771962678921008411920684869745860964221202086185044727195672199860866945731999794236297103215122745791, 65537)\n",
      "PrivateKey(12861544132625847745033511106601970583073708486957997771962678921008411920684869745860964221202086185044727195672199860866945731999794236297103215122745791, 65537, 6817283673026789431420023937945576607333483153332421786203816780719139006112952175112295146319471186585606676451641141172512563877850718384367725578103473, 7401878590334007487006911807144262992451520134472500637023913830426735037930016541, 1737605389721134906564725106133593380921966659289810323230138237898234251)\n"
     ]
    }
   ],
   "source": [
    "(pubkey, privkey) = rsa.newkeys(512)\n",
    "print (pubkey)\n",
    "print (privkey)"
   ]
  },
  {
   "cell_type": "markdown",
   "metadata": {},
   "source": [
    "Another way to speed up the key generation process is to use multiple processes in parallel to speed up the key generation. Use no more than the number of processes that your machine can run in parallel; a dual-core machine should use poolsize=2; a quad-core hyperthreading machine can run two threads on each core, and thus can use poolsize=8."
   ]
  },
  {
   "cell_type": "code",
   "execution_count": 42,
   "metadata": {},
   "outputs": [
    {
     "name": "stdout",
     "output_type": "stream",
     "text": [
      "PublicKey(7323670490096457572124703713659635429642042745109801914985999819256090280931841321177218408504292931781949766770426136673105546389718672287366568709771553, 65537)\n",
      "PrivateKey(7323670490096457572124703713659635429642042745109801914985999819256090280931841321177218408504292931781949766770426136673105546389718672287366568709771553, 65537, 6915564464037402945678582927503952554486745125366130453162466985285611894391439677482188826220041142385867064502875062273878424645883918409562411364588613, 5053489826746648397239145139658123327463819229923167059573600032652472468739893979, 1449230282672066490539556102289156426726618291033339381966517405236080307)\n"
     ]
    }
   ],
   "source": [
    "(pubkey, privkey) = rsa.newkeys(512, poolsize=multiprocessing.cpu_count())\n",
    "print (pubkey)\n",
    "print (privkey)"
   ]
  },
  {
   "cell_type": "markdown",
   "metadata": {},
   "source": [
    "# Encryption and decryption"
   ]
  },
  {
   "cell_type": "markdown",
   "metadata": {},
   "source": [
    "To encrypt or decrypt a message, use rsa.encrypt() resp. rsa.decrypt().\n",
    "Let’s say that Alice wants to send a message that only Bob can read."
   ]
  },
  {
   "cell_type": "markdown",
   "metadata": {},
   "source": [
    "1.Bob generates a keypair, and gives the public key to Alice. This is done such that Alice knows for sure that the key is really Bob’s (for example by handing over a USB stick that contains the key)."
   ]
  },
  {
   "cell_type": "code",
   "execution_count": 43,
   "metadata": {},
   "outputs": [],
   "source": [
    "(bob_pub, bob_priv) = rsa.newkeys(512)"
   ]
  },
  {
   "cell_type": "markdown",
   "metadata": {},
   "source": [
    "2.Alice writes a message, and encodes it in UTF-8. The RSA module only operates on bytes, and not on strings, so this step is necessary."
   ]
  },
  {
   "cell_type": "code",
   "execution_count": 44,
   "metadata": {},
   "outputs": [],
   "source": [
    "message = 'hello Bob!'.encode('utf8')"
   ]
  },
  {
   "cell_type": "markdown",
   "metadata": {},
   "source": [
    "3.Alice encrypts the message using Bob’s public key, and sends the encrypted message."
   ]
  },
  {
   "cell_type": "code",
   "execution_count": 45,
   "metadata": {},
   "outputs": [],
   "source": [
    "crypto = rsa.encrypt(message, bob_pub)"
   ]
  },
  {
   "cell_type": "markdown",
   "metadata": {},
   "source": [
    "4.Bob receives the message, and decrypts it with his private key."
   ]
  },
  {
   "cell_type": "code",
   "execution_count": 46,
   "metadata": {},
   "outputs": [
    {
     "name": "stdout",
     "output_type": "stream",
     "text": [
      "hello Bob!\n"
     ]
    }
   ],
   "source": [
    "message = rsa.decrypt(crypto, bob_priv)\n",
    "print(message.decode('utf8'))"
   ]
  },
  {
   "cell_type": "markdown",
   "metadata": {},
   "source": [
    "*RSA can only encrypt messages that are smaller than the key. A couple of bytes are lost on random padding, and the rest is available for the message itself. *For example, a 512-bit key can encode a 53-byte message (512 bit = 64 bytes, 11 bytes are used for random padding and other stuff). See Working with big files for information on how to work with larger files."
   ]
  },
  {
   "cell_type": "markdown",
   "metadata": {},
   "source": [
    "# Signing and verification"
   ]
  },
  {
   "cell_type": "markdown",
   "metadata": {},
   "source": [
    "create a detached signature\n",
    "This hashes the message using SHA-1. Other hash methods are also possible\n",
    "The RSA module only operates on bytes, and not on strings, so this step is necessary."
   ]
  },
  {
   "cell_type": "code",
   "execution_count": 47,
   "metadata": {},
   "outputs": [
    {
     "name": "stdout",
     "output_type": "stream",
     "text": [
      "b'\\xb3\\x06\\x0b\\xc1A\\xb5\\x1bY\\rPA\\x05m\\x9c\\xf8riV\\xf3\\x8e\\xfcA\\xe8\\x81\\x18\\r\\xb9zn\\xc3rz\\x1eHZ`\\x84=\\x08A\\x85w\\x80\\x16\\xaa\\x0c\\x05p\\x88\\xfaO;\\xdd\\r.\\xe7\\x14~\\xdfuW\\xe5\\x9d\\xd9'\n"
     ]
    }
   ],
   "source": [
    "(pubkey, privkey) = rsa.newkeys(512)\n",
    "message = 'Go left at the blue tree'\n",
    "signature = rsa.sign(message.encode('utf8'), privkey, 'SHA-1')\n",
    "print (signature)"
   ]
  },
  {
   "cell_type": "markdown",
   "metadata": {},
   "source": [
    "verify the signature"
   ]
  },
  {
   "cell_type": "code",
   "execution_count": 48,
   "metadata": {},
   "outputs": [
    {
     "data": {
      "text/plain": [
       "True"
      ]
     },
     "execution_count": 48,
     "metadata": {},
     "output_type": "execute_result"
    }
   ],
   "source": [
    "message = 'Go left at the blue tree'\n",
    "rsa.verify(message.encode('utf8'), signature, pubkey)"
   ]
  },
  {
   "cell_type": "markdown",
   "metadata": {},
   "source": [
    "*Never display the stack trace of a rsa.pkcs1.VerificationError exception. It shows where in the code the exception occurred, and thus leaks information about the key. It’s only a tiny bit of information, but every bit makes cracking the keys easier.*"
   ]
  },
  {
   "cell_type": "markdown",
   "metadata": {},
   "source": [
    "# ChaCha20"
   ]
  },
  {
   "cell_type": "code",
   "execution_count": null,
   "metadata": {},
   "outputs": [
    {
     "name": "stdout",
     "output_type": "stream",
     "text": [
      "hello Bob你好!\n"
     ]
    }
   ],
   "source": [
    "import os\n",
    "from cryptography.hazmat.primitives.ciphers import Cipher, algorithms, modes\n",
    "from cryptography.hazmat.backends import default_backend\n",
    "\n",
    "key = os.urandom(32)\n",
    "nonce = os.urandom(16)\n",
    "\n",
    "algorithm = algorithms.ChaCha20(key, nonce)\n",
    "cipher = Cipher(algorithm, mode=None, backend=default_backend())\n",
    "encryptor = cipher.encryptor()\n",
    "\n",
    "message = 'hello Bob你好!'.encode('utf8')\n",
    "ct = encryptor.update(message)\n",
    "decryptor = cipher.decryptor()\n",
    "print(decryptor.update(ct).decode('utf8'))"
   ]
  },
  {
   "cell_type": "markdown",
   "metadata": {},
   "source": [
    "# Working with big files"
   ]
  },
  {
   "cell_type": "markdown",
   "metadata": {},
   "source": [
    "RSA can only encrypt messages that are smaller than the key.The most common way to use RSA with larger files uses a block cypher like AES or DES3 to encrypt the file with a random key, then encrypt the random key with RSA. You would send the encrypted file along with the encrypted key to the recipient. The complete flow is:"
   ]
  },
  {
   "cell_type": "markdown",
   "metadata": {},
   "source": [
    "## Generate a random key"
   ]
  },
  {
   "cell_type": "code",
   "execution_count": 143,
   "metadata": {},
   "outputs": [
    {
     "name": "stdout",
     "output_type": "stream",
     "text": [
      "b'\\x16\\xd7/\\xbc\\xc64Tg\\xb7AP\"wX\\xa8n\\xfeL$\\xf6\\xce\\xa8\\xa5\\xb5\\xef\\xe57\\xb6\\xf9\\xc5\\xd5\\x1d'\n"
     ]
    }
   ],
   "source": [
    "import os\n",
    "chacha20_key = os.urandom(32) # must be 32 bytes\n",
    "nonce = os.urandom(16) # nonce\n",
    "print (aes_key)"
   ]
  },
  {
   "cell_type": "markdown",
   "metadata": {},
   "source": [
    "## Use that key to encrypt the file with ChaCha20."
   ]
  },
  {
   "cell_type": "markdown",
   "metadata": {},
   "source": [
    "message.txt : original file  \n",
    "encrypted.bin : encrypted file  \n",
    "decrypted.txt: decrypted file"
   ]
  },
  {
   "cell_type": "markdown",
   "metadata": {},
   "source": [
    "### Encrypt data with ChaCha20"
   ]
  },
  {
   "cell_type": "code",
   "execution_count": 156,
   "metadata": {},
   "outputs": [],
   "source": [
    "with open('message.txt','rb') as f:\n",
    "    data = f.read()\n",
    "    f.close()\n",
    "    \n",
    "cipher = Cipher(algorithms.ChaCha20(key, nonce), mode=None, backend=default_backend())\n",
    "encryptor = cipher.encryptor()\n",
    "ct = encryptor.update(data)\n",
    "with open('encrypted.bin','wb') as f:\n",
    "    f.write(ct)\n",
    "    f.close()\n",
    "\n"
   ]
  },
  {
   "cell_type": "markdown",
   "metadata": {},
   "source": [
    "## Encrypt the ChaCha20 key with RSA"
   ]
  },
  {
   "cell_type": "code",
   "execution_count": 157,
   "metadata": {},
   "outputs": [],
   "source": [
    "(public_rsa_key, privkey) = rsa.newkeys(512)\n",
    "encrypted_chacha20_key = rsa.encrypt(chacha20_key, public_rsa_key)"
   ]
  },
  {
   "cell_type": "markdown",
   "metadata": {},
   "source": [
    "4.Send the encrypted file together with encrypted_aes_key"
   ]
  },
  {
   "cell_type": "markdown",
   "metadata": {},
   "source": [
    "5.The recipient now reverses this process to obtain the encrypted file."
   ]
  },
  {
   "cell_type": "code",
   "execution_count": 161,
   "metadata": {},
   "outputs": [],
   "source": [
    "key = rsa.decrypt(encrypted_chacha20_key,privkey)\n",
    "cipher = Cipher(algorithms.ChaCha20(key, nonce), mode=None, backend=default_backend())\n",
    "decryptor = cipher.decryptor()\n",
    "with  open(\"encrypted.bin\", \"rb\") as file_in:\n",
    "    encrypted_data = file_in.read()\n",
    "    file_in.close()\n",
    "\n",
    "decrypted_data = decryptor.update(encrypted_data)\n",
    "with open('decrypted.txt','wb') as f:\n",
    "    f.write(decrypted_data)\n",
    "    f.close()"
   ]
  },
  {
   "cell_type": "code",
   "execution_count": 159,
   "metadata": {},
   "outputs": [
    {
     "name": "stdout",
     "output_type": "stream",
     "text": [
      "b\"The Witcher 3: Wild Hunt[a] is a 2015 action role-playing video game developed and published by CD Projekt. \\r\\nBased on The Witcher series of fantasy novels by Polish author Andrzej Sapkowski, \\r\\nit is the sequel to the 2011 video game The Witcher 2: Assassins of Kings and the third installment in The Witcher video game series. \\r\\nPlayed in an open world with a third-person perspective, players control protagonist Geralt of Rivia. \\r\\nGeralt, a monster hunter known as a Witcher, is looking for his missing adopted daughter, \\r\\nwho is on the run from the Wild Hunt: an otherworldly force determined to capture and use her powers. \\r\\nPlayers battle the game's many dangers with weapons and magic, interact with non-player characters, \\r\\nand complete main-story and side quests to acquire experience points and gold, \\r\\nwhich are used to increase Geralt's abilities and purchase equipment. Its central story has several endings, \\r\\ndetermined by the player's choices at certain points in the game.\\r\\n\\r\\nDevelopment began in 2011 and lasted for three-and-a-half years, of which over two-and-a-half years were devoted to voice recording. \\r\\nThe writing was infused with real-life aspects like moral ambiguity in a deliberate attempt to avoid simplification, impart authenticity, \\r\\nand reflect Sapkowski's novels. Europe was the basis of the game's open world, with Poland, Amsterdam, and Scandinavia as its primary inspirations. \\r\\nREDengine 3 enabled the developer to create a complex story without compromising the game world, whose size was enlarged by PlayStation 4 and Xbox One technology. \\r\\nThe music was primarily composed by Marcin Przyby\\xc5\\x82owicz and performed in Germany by the Brandenburg State Orchestra.\\r\\n\\r\\nThe Witcher 3: Wild Hunt was released worldwide for Microsoft Windows, PlayStation 4, and Xbox One on 19 May 2015. \\r\\nThe game received critical acclaim, with praise of its gameplay, narrative, world design, combat, and visuals, \\r\\nalthough it suffered criticism due to technical issues, some of which were later patched. It was 2015's most-awarded game, \\r\\nreceiving Game of the Year awards from gaming publications, critics, and award events, and is considered one of the greatest games \\r\\nof all time. The game was a commercial success, selling over six million copies within six weeks of its release and ten million copies overall. \\r\\nTwo expansion packs, Hearts of Stone and Blood and Wine, were also released. A Game of the Year edition, with the base game, \\r\\nexpansion packs and all downloadable content, was released in August 2016.\"\n"
     ]
    }
   ],
   "source": [
    "print(data)"
   ]
  },
  {
   "cell_type": "code",
   "execution_count": 160,
   "metadata": {},
   "outputs": [
    {
     "name": "stdout",
     "output_type": "stream",
     "text": [
      "b\"The Witcher 3: Wild Hunt[a] is a 2015 action role-playing video game developed and published by CD Projekt. \\r\\nBased on The Witcher series of fantasy novels by Polish author Andrzej Sapkowski, \\r\\nit is the sequel to the 2011 video game The Witcher 2: Assassins of Kings and the third installment in The Witcher video game series. \\r\\nPlayed in an open world with a third-person perspective, players control protagonist Geralt of Rivia. \\r\\nGeralt, a monster hunter known as a Witcher, is looking for his missing adopted daughter, \\r\\nwho is on the run from the Wild Hunt: an otherworldly force determined to capture and use her powers. \\r\\nPlayers battle the game's many dangers with weapons and magic, interact with non-player characters, \\r\\nand complete main-story and side quests to acquire experience points and gold, \\r\\nwhich are used to increase Geralt's abilities and purchase equipment. Its central story has several endings, \\r\\ndetermined by the player's choices at certain points in the game.\\r\\n\\r\\nDevelopment began in 2011 and lasted for three-and-a-half years, of which over two-and-a-half years were devoted to voice recording. \\r\\nThe writing was infused with real-life aspects like moral ambiguity in a deliberate attempt to avoid simplification, impart authenticity, \\r\\nand reflect Sapkowski's novels. Europe was the basis of the game's open world, with Poland, Amsterdam, and Scandinavia as its primary inspirations. \\r\\nREDengine 3 enabled the developer to create a complex story without compromising the game world, whose size was enlarged by PlayStation 4 and Xbox One technology. \\r\\nThe music was primarily composed by Marcin Przyby\\xc5\\x82owicz and performed in Germany by the Brandenburg State Orchestra.\\r\\n\\r\\nThe Witcher 3: Wild Hunt was released worldwide for Microsoft Windows, PlayStation 4, and Xbox One on 19 May 2015. \\r\\nThe game received critical acclaim, with praise of its gameplay, narrative, world design, combat, and visuals, \\r\\nalthough it suffered criticism due to technical issues, some of which were later patched. It was 2015's most-awarded game, \\r\\nreceiving Game of the Year awards from gaming publications, critics, and award events, and is considered one of the greatest games \\r\\nof all time. The game was a commercial success, selling over six million copies within six weeks of its release and ten million copies overall. \\r\\nTwo expansion packs, Hearts of Stone and Blood and Wine, were also released. A Game of the Year edition, with the base game, \\r\\nexpansion packs and all downloadable content, was released in August 2016.\"\n"
     ]
    }
   ],
   "source": [
    "print(decrypted_data)"
   ]
  }
 ],
 "metadata": {
  "kernelspec": {
   "display_name": "Python 3",
   "language": "python",
   "name": "python3"
  },
  "language_info": {
   "codemirror_mode": {
    "name": "ipython",
    "version": 3
   },
   "file_extension": ".py",
   "mimetype": "text/x-python",
   "name": "python",
   "nbconvert_exporter": "python",
   "pygments_lexer": "ipython3",
   "version": "3.6.2"
  },
  "toc": {
   "nav_menu": {},
   "number_sections": true,
   "sideBar": true,
   "skip_h1_title": false,
   "toc_cell": false,
   "toc_position": {},
   "toc_section_display": "block",
   "toc_window_display": false
  },
  "varInspector": {
   "cols": {
    "lenName": 16.0,
    "lenType": 16.0,
    "lenVar": 40.0
   },
   "kernels_config": {
    "python": {
     "delete_cmd_postfix": "",
     "delete_cmd_prefix": "del ",
     "library": "var_list.py",
     "varRefreshCmd": "print(var_dic_list())"
    },
    "r": {
     "delete_cmd_postfix": ") ",
     "delete_cmd_prefix": "rm(",
     "library": "var_list.r",
     "varRefreshCmd": "cat(var_dic_list()) "
    }
   },
   "types_to_exclude": [
    "module",
    "function",
    "builtin_function_or_method",
    "instance",
    "_Feature"
   ],
   "window_display": false
  }
 },
 "nbformat": 4,
 "nbformat_minor": 2
}
